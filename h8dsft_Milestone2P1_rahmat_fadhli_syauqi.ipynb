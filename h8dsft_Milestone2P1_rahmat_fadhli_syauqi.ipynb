{
 "cells": [
  {
   "cell_type": "markdown",
   "metadata": {},
   "source": [
    "# Milestone 2\n",
    "\n",
    "- Name : Rahmat Fadhli Syauqi\n",
    "- Batch : FTDS011"
   ]
  },
  {
   "cell_type": "markdown",
   "metadata": {},
   "source": [
    "URL Backend : https://airplane-pred.herokuapp.com/\n",
    "URL Frontend : https://satisfaction-predictor.herokuapp.com/"
   ]
  },
  {
   "cell_type": "markdown",
   "metadata": {},
   "source": [
    "## I. Introduction\n",
    "\n",
    "This project is meant for fulfilling Hacktiv8 Fulltime Datascience Bootcamp Milestone-2 assignment.\n",
    "\n",
    "In this project, I will try to create end-to-end Machine Learning prediction model using several Supervised Learning algorithm that is available in Sklearn library."
   ]
  },
  {
   "cell_type": "markdown",
   "metadata": {},
   "source": [
    "**I.2 Dataset Description**\n",
    "\n",
    "This dataset contains an airline passenger satisfaction survey. All the data will be treating this as a binary classification problem, where we will attemp to create a model that predicts whether a customer was Satisfied or Unsatisfied with the experience and/or service which an airline provided.\n",
    "\n",
    "And the dataset we collected from Kaggle \"https://www.kaggle.com/datasets/teejmahal20/airline-passenger-satisfaction\"."
   ]
  },
  {
   "cell_type": "markdown",
   "metadata": {},
   "source": [
    "**I.3 Data Set Information:**\n",
    "\n",
    "This dataset contains an airline passenger satisfaction survey. What factors are highly correlated to a satisfied (or dissatisfied) passenger.\n",
    "\n",
    "- Gender: Gender of the passengers (Female, Male)\n",
    "\n",
    "- Customer Type: The customer type (Loyal customer, disloyal customer)\n",
    "\n",
    "- Age: The actual age of the passengers\n",
    "\n",
    "- Type of Travel: Purpose of the flight of the passengers (Personal Travel, Business Travel)\n",
    "\n",
    "- Class: Travel class in the plane of the passengers (Business, Eco, Eco Plus)\n",
    "\n",
    "- Flight distance: The flight distance of this journey\n",
    "\n",
    "- Inflight wifi service: Satisfaction level of the inflight wifi service (0:Not Applicable;1-5)\n",
    "\n",
    "- Departure/Arrival time convenient: Satisfaction level of Departure/Arrival time convenient\n",
    "\n",
    "- Ease of Online booking: Satisfaction level of online booking\n",
    "\n",
    "- Gate location: Satisfaction level of Gate location\n",
    "\n",
    "- Food and drink: Satisfaction level of Food and drink\n",
    "\n",
    "- Online boarding: Satisfaction level of online boarding\n",
    "\n",
    "- Seat comfort: Satisfaction level of Seat comfort\n",
    "\n",
    "- Inflight entertainment: Satisfaction level of inflight entertainment\n",
    "\n",
    "- On-board service: Satisfaction level of On-board service\n",
    "\n",
    "- Leg room service: Satisfaction level of Leg room service\n",
    "\n",
    "- Baggage handling: Satisfaction level of baggage handling\n",
    "\n",
    "- Check-in service: Satisfaction level of Check-in service\n",
    "\n",
    "- Inflight service: Satisfaction level of inflight service\n",
    "\n",
    "- Cleanliness: Satisfaction level of Cleanliness\n",
    "\n",
    "- Departure Delay in Minutes: Minutes delayed when departure\n",
    "\n",
    "- Arrival Delay in Minutes: Minutes delayed when Arrival\n",
    "\n",
    "- Satisfaction: Airline satisfaction level(Satisfaction, neutral or dissatisfaction)"
   ]
  },
  {
   "cell_type": "markdown",
   "metadata": {},
   "source": [
    "**I.4 Objectives**\n",
    "\n",
    "Create a machine larning model that can estimate Satisfaction of passangers based on the features of the dataset."
   ]
  },
  {
   "cell_type": "markdown",
   "metadata": {},
   "source": [
    "---\n",
    "# II. Import Libraries"
   ]
  },
  {
   "cell_type": "code",
   "execution_count": 1,
   "metadata": {},
   "outputs": [],
   "source": [
    "# Import Libraries\n",
    "import pandas as pd\n",
    "import numpy as np\n",
    "from datetime import datetime as dt\n",
    "from scipy import stats\n",
    "\n",
    "# Visualization\n",
    "import matplotlib.pyplot as plt\n",
    "import seaborn as sns; sns.set()\n",
    "import plotly.express as px\n",
    "from matplotlib import cm\n",
    "\n",
    "# Data Preprocessing\n",
    "from sklearn.model_selection import train_test_split\n",
    "from feature_engine.outliers import OutlierTrimmer, Winsorizer\n",
    "from sklearn.compose import ColumnTransformer\n",
    "from sklearn.pipeline import Pipeline\n",
    "from sklearn.preprocessing import StandardScaler, MinMaxScaler,OneHotEncoder\n",
    "\n",
    "# Model\n",
    "from sklearn.linear_model import LogisticRegression\n",
    "from sklearn.ensemble import RandomForestClassifier, AdaBoostClassifier\n",
    "from sklearn.svm import SVC\n",
    "from sklearn.neighbors import KNeighborsClassifier\n",
    "from sklearn.model_selection import cross_val_score, GridSearchCV\n",
    "from mlxtend.plotting import plot_confusion_matrix\n",
    "\n",
    "# Metric\n",
    "from sklearn.metrics import classification_report, roc_auc_score, auc, RocCurveDisplay, roc_curve, confusion_matrix\n",
    "\n",
    "# Deployment\n",
    "import pickle\n",
    "\n",
    "import warnings\n",
    "warnings.filterwarnings(\"ignore\")"
   ]
  },
  {
   "cell_type": "markdown",
   "metadata": {},
   "source": [
    "# III. Data Loading"
   ]
  },
  {
   "cell_type": "code",
   "execution_count": 2,
   "metadata": {},
   "outputs": [],
   "source": [
    "# Load Data and save it in `df_og` variable\n",
    "df_train_test = pd.read_csv('train.csv')\n",
    "\n",
    "# Make copy from the df\n",
    "df = df_train_test.copy()"
   ]
  },
  {
   "cell_type": "markdown",
   "metadata": {},
   "source": [
    "**Dataset Preview**"
   ]
  },
  {
   "cell_type": "code",
   "execution_count": 3,
   "metadata": {},
   "outputs": [
    {
     "data": {
      "text/html": [
       "<div>\n",
       "<style scoped>\n",
       "    .dataframe tbody tr th:only-of-type {\n",
       "        vertical-align: middle;\n",
       "    }\n",
       "\n",
       "    .dataframe tbody tr th {\n",
       "        vertical-align: top;\n",
       "    }\n",
       "\n",
       "    .dataframe thead th {\n",
       "        text-align: right;\n",
       "    }\n",
       "</style>\n",
       "<table border=\"1\" class=\"dataframe\">\n",
       "  <thead>\n",
       "    <tr style=\"text-align: right;\">\n",
       "      <th></th>\n",
       "      <th>Unnamed: 0</th>\n",
       "      <th>id</th>\n",
       "      <th>Gender</th>\n",
       "      <th>Customer Type</th>\n",
       "      <th>Age</th>\n",
       "      <th>Type of Travel</th>\n",
       "      <th>Class</th>\n",
       "      <th>Flight Distance</th>\n",
       "      <th>Inflight wifi service</th>\n",
       "      <th>Departure/Arrival time convenient</th>\n",
       "      <th>Ease of Online booking</th>\n",
       "      <th>Gate location</th>\n",
       "      <th>Food and drink</th>\n",
       "      <th>Online boarding</th>\n",
       "      <th>Seat comfort</th>\n",
       "      <th>Inflight entertainment</th>\n",
       "      <th>On-board service</th>\n",
       "      <th>Leg room service</th>\n",
       "      <th>Baggage handling</th>\n",
       "      <th>Checkin service</th>\n",
       "      <th>Inflight service</th>\n",
       "      <th>Cleanliness</th>\n",
       "      <th>Departure Delay in Minutes</th>\n",
       "      <th>Arrival Delay in Minutes</th>\n",
       "      <th>satisfaction</th>\n",
       "    </tr>\n",
       "  </thead>\n",
       "  <tbody>\n",
       "    <tr>\n",
       "      <th>0</th>\n",
       "      <td>0</td>\n",
       "      <td>70172</td>\n",
       "      <td>Male</td>\n",
       "      <td>Loyal Customer</td>\n",
       "      <td>13</td>\n",
       "      <td>Personal Travel</td>\n",
       "      <td>Eco Plus</td>\n",
       "      <td>460</td>\n",
       "      <td>3</td>\n",
       "      <td>4</td>\n",
       "      <td>3</td>\n",
       "      <td>1</td>\n",
       "      <td>5</td>\n",
       "      <td>3</td>\n",
       "      <td>5</td>\n",
       "      <td>5</td>\n",
       "      <td>4</td>\n",
       "      <td>3</td>\n",
       "      <td>4</td>\n",
       "      <td>4</td>\n",
       "      <td>5</td>\n",
       "      <td>5</td>\n",
       "      <td>25</td>\n",
       "      <td>18.0</td>\n",
       "      <td>neutral or dissatisfied</td>\n",
       "    </tr>\n",
       "    <tr>\n",
       "      <th>1</th>\n",
       "      <td>1</td>\n",
       "      <td>5047</td>\n",
       "      <td>Male</td>\n",
       "      <td>disloyal Customer</td>\n",
       "      <td>25</td>\n",
       "      <td>Business travel</td>\n",
       "      <td>Business</td>\n",
       "      <td>235</td>\n",
       "      <td>3</td>\n",
       "      <td>2</td>\n",
       "      <td>3</td>\n",
       "      <td>3</td>\n",
       "      <td>1</td>\n",
       "      <td>3</td>\n",
       "      <td>1</td>\n",
       "      <td>1</td>\n",
       "      <td>1</td>\n",
       "      <td>5</td>\n",
       "      <td>3</td>\n",
       "      <td>1</td>\n",
       "      <td>4</td>\n",
       "      <td>1</td>\n",
       "      <td>1</td>\n",
       "      <td>6.0</td>\n",
       "      <td>neutral or dissatisfied</td>\n",
       "    </tr>\n",
       "    <tr>\n",
       "      <th>2</th>\n",
       "      <td>2</td>\n",
       "      <td>110028</td>\n",
       "      <td>Female</td>\n",
       "      <td>Loyal Customer</td>\n",
       "      <td>26</td>\n",
       "      <td>Business travel</td>\n",
       "      <td>Business</td>\n",
       "      <td>1142</td>\n",
       "      <td>2</td>\n",
       "      <td>2</td>\n",
       "      <td>2</td>\n",
       "      <td>2</td>\n",
       "      <td>5</td>\n",
       "      <td>5</td>\n",
       "      <td>5</td>\n",
       "      <td>5</td>\n",
       "      <td>4</td>\n",
       "      <td>3</td>\n",
       "      <td>4</td>\n",
       "      <td>4</td>\n",
       "      <td>4</td>\n",
       "      <td>5</td>\n",
       "      <td>0</td>\n",
       "      <td>0.0</td>\n",
       "      <td>satisfied</td>\n",
       "    </tr>\n",
       "    <tr>\n",
       "      <th>3</th>\n",
       "      <td>3</td>\n",
       "      <td>24026</td>\n",
       "      <td>Female</td>\n",
       "      <td>Loyal Customer</td>\n",
       "      <td>25</td>\n",
       "      <td>Business travel</td>\n",
       "      <td>Business</td>\n",
       "      <td>562</td>\n",
       "      <td>2</td>\n",
       "      <td>5</td>\n",
       "      <td>5</td>\n",
       "      <td>5</td>\n",
       "      <td>2</td>\n",
       "      <td>2</td>\n",
       "      <td>2</td>\n",
       "      <td>2</td>\n",
       "      <td>2</td>\n",
       "      <td>5</td>\n",
       "      <td>3</td>\n",
       "      <td>1</td>\n",
       "      <td>4</td>\n",
       "      <td>2</td>\n",
       "      <td>11</td>\n",
       "      <td>9.0</td>\n",
       "      <td>neutral or dissatisfied</td>\n",
       "    </tr>\n",
       "    <tr>\n",
       "      <th>4</th>\n",
       "      <td>4</td>\n",
       "      <td>119299</td>\n",
       "      <td>Male</td>\n",
       "      <td>Loyal Customer</td>\n",
       "      <td>61</td>\n",
       "      <td>Business travel</td>\n",
       "      <td>Business</td>\n",
       "      <td>214</td>\n",
       "      <td>3</td>\n",
       "      <td>3</td>\n",
       "      <td>3</td>\n",
       "      <td>3</td>\n",
       "      <td>4</td>\n",
       "      <td>5</td>\n",
       "      <td>5</td>\n",
       "      <td>3</td>\n",
       "      <td>3</td>\n",
       "      <td>4</td>\n",
       "      <td>4</td>\n",
       "      <td>3</td>\n",
       "      <td>3</td>\n",
       "      <td>3</td>\n",
       "      <td>0</td>\n",
       "      <td>0.0</td>\n",
       "      <td>satisfied</td>\n",
       "    </tr>\n",
       "  </tbody>\n",
       "</table>\n",
       "</div>"
      ],
      "text/plain": [
       "   Unnamed: 0      id  Gender      Customer Type  Age   Type of Travel  \\\n",
       "0           0   70172    Male     Loyal Customer   13  Personal Travel   \n",
       "1           1    5047    Male  disloyal Customer   25  Business travel   \n",
       "2           2  110028  Female     Loyal Customer   26  Business travel   \n",
       "3           3   24026  Female     Loyal Customer   25  Business travel   \n",
       "4           4  119299    Male     Loyal Customer   61  Business travel   \n",
       "\n",
       "      Class  Flight Distance  Inflight wifi service  \\\n",
       "0  Eco Plus              460                      3   \n",
       "1  Business              235                      3   \n",
       "2  Business             1142                      2   \n",
       "3  Business              562                      2   \n",
       "4  Business              214                      3   \n",
       "\n",
       "   Departure/Arrival time convenient  Ease of Online booking  Gate location  \\\n",
       "0                                  4                       3              1   \n",
       "1                                  2                       3              3   \n",
       "2                                  2                       2              2   \n",
       "3                                  5                       5              5   \n",
       "4                                  3                       3              3   \n",
       "\n",
       "   Food and drink  Online boarding  Seat comfort  Inflight entertainment  \\\n",
       "0               5                3             5                       5   \n",
       "1               1                3             1                       1   \n",
       "2               5                5             5                       5   \n",
       "3               2                2             2                       2   \n",
       "4               4                5             5                       3   \n",
       "\n",
       "   On-board service  Leg room service  Baggage handling  Checkin service  \\\n",
       "0                 4                 3                 4                4   \n",
       "1                 1                 5                 3                1   \n",
       "2                 4                 3                 4                4   \n",
       "3                 2                 5                 3                1   \n",
       "4                 3                 4                 4                3   \n",
       "\n",
       "   Inflight service  Cleanliness  Departure Delay in Minutes  \\\n",
       "0                 5            5                          25   \n",
       "1                 4            1                           1   \n",
       "2                 4            5                           0   \n",
       "3                 4            2                          11   \n",
       "4                 3            3                           0   \n",
       "\n",
       "   Arrival Delay in Minutes             satisfaction  \n",
       "0                      18.0  neutral or dissatisfied  \n",
       "1                       6.0  neutral or dissatisfied  \n",
       "2                       0.0                satisfied  \n",
       "3                       9.0  neutral or dissatisfied  \n",
       "4                       0.0                satisfied  "
      ]
     },
     "execution_count": 3,
     "metadata": {},
     "output_type": "execute_result"
    }
   ],
   "source": [
    "# Show the dataset\n",
    "pd.set_option('display.max_columns', None)\n",
    "df.head()"
   ]
  },
  {
   "cell_type": "code",
   "execution_count": 73,
   "metadata": {},
   "outputs": [
    {
     "data": {
      "text/plain": [
       "(103904, 25)"
      ]
     },
     "execution_count": 73,
     "metadata": {},
     "output_type": "execute_result"
    }
   ],
   "source": [
    "# Dataset shape \n",
    "df.shape"
   ]
  },
  {
   "cell_type": "code",
   "execution_count": 74,
   "metadata": {},
   "outputs": [
    {
     "name": "stdout",
     "output_type": "stream",
     "text": [
      "<class 'pandas.core.frame.DataFrame'>\n",
      "RangeIndex: 103904 entries, 0 to 103903\n",
      "Data columns (total 25 columns):\n",
      " #   Column                             Non-Null Count   Dtype  \n",
      "---  ------                             --------------   -----  \n",
      " 0   Unnamed: 0                         103904 non-null  int64  \n",
      " 1   id                                 103904 non-null  int64  \n",
      " 2   Gender                             103904 non-null  object \n",
      " 3   Customer Type                      103904 non-null  object \n",
      " 4   Age                                103904 non-null  int64  \n",
      " 5   Type of Travel                     103904 non-null  object \n",
      " 6   Class                              103904 non-null  object \n",
      " 7   Flight Distance                    103904 non-null  int64  \n",
      " 8   Inflight wifi service              103904 non-null  int64  \n",
      " 9   Departure/Arrival time convenient  103904 non-null  int64  \n",
      " 10  Ease of Online booking             103904 non-null  int64  \n",
      " 11  Gate location                      103904 non-null  int64  \n",
      " 12  Food and drink                     103904 non-null  int64  \n",
      " 13  Online boarding                    103904 non-null  int64  \n",
      " 14  Seat comfort                       103904 non-null  int64  \n",
      " 15  Inflight entertainment             103904 non-null  int64  \n",
      " 16  On-board service                   103904 non-null  int64  \n",
      " 17  Leg room service                   103904 non-null  int64  \n",
      " 18  Baggage handling                   103904 non-null  int64  \n",
      " 19  Checkin service                    103904 non-null  int64  \n",
      " 20  Inflight service                   103904 non-null  int64  \n",
      " 21  Cleanliness                        103904 non-null  int64  \n",
      " 22  Departure Delay in Minutes         103904 non-null  int64  \n",
      " 23  Arrival Delay in Minutes           103594 non-null  float64\n",
      " 24  satisfaction                       103904 non-null  object \n",
      "dtypes: float64(1), int64(19), object(5)\n",
      "memory usage: 19.8+ MB\n"
     ]
    }
   ],
   "source": [
    "# Dataset Info\n",
    "df.info()"
   ]
  },
  {
   "cell_type": "code",
   "execution_count": 75,
   "metadata": {},
   "outputs": [
    {
     "data": {
      "text/plain": [
       "Unnamed: 0                             0\n",
       "Departure Delay in Minutes             0\n",
       "Cleanliness                            0\n",
       "Inflight service                       0\n",
       "Checkin service                        0\n",
       "Baggage handling                       0\n",
       "Leg room service                       0\n",
       "On-board service                       0\n",
       "Inflight entertainment                 0\n",
       "Seat comfort                           0\n",
       "Online boarding                        0\n",
       "Food and drink                         0\n",
       "Ease of Online booking                 0\n",
       "Departure/Arrival time convenient      0\n",
       "Inflight wifi service                  0\n",
       "Flight Distance                        0\n",
       "Class                                  0\n",
       "Type of Travel                         0\n",
       "Age                                    0\n",
       "Customer Type                          0\n",
       "Gender                                 0\n",
       "id                                     0\n",
       "Gate location                          0\n",
       "satisfaction                           0\n",
       "Arrival Delay in Minutes             310\n",
       "dtype: int64"
      ]
     },
     "execution_count": 75,
     "metadata": {},
     "output_type": "execute_result"
    }
   ],
   "source": [
    "# Null value summary\n",
    "df.isnull().sum().sort_values()"
   ]
  },
  {
   "cell_type": "code",
   "execution_count": 76,
   "metadata": {},
   "outputs": [
    {
     "data": {
      "text/html": [
       "<div>\n",
       "<style scoped>\n",
       "    .dataframe tbody tr th:only-of-type {\n",
       "        vertical-align: middle;\n",
       "    }\n",
       "\n",
       "    .dataframe tbody tr th {\n",
       "        vertical-align: top;\n",
       "    }\n",
       "\n",
       "    .dataframe thead th {\n",
       "        text-align: right;\n",
       "    }\n",
       "</style>\n",
       "<table border=\"1\" class=\"dataframe\">\n",
       "  <thead>\n",
       "    <tr style=\"text-align: right;\">\n",
       "      <th></th>\n",
       "      <th>count</th>\n",
       "      <th>mean</th>\n",
       "      <th>std</th>\n",
       "      <th>min</th>\n",
       "      <th>50%</th>\n",
       "      <th>max</th>\n",
       "    </tr>\n",
       "  </thead>\n",
       "  <tbody>\n",
       "    <tr>\n",
       "      <th>Unnamed: 0</th>\n",
       "      <td>103904.0</td>\n",
       "      <td>51951.500000</td>\n",
       "      <td>29994.645522</td>\n",
       "      <td>0.0</td>\n",
       "      <td>51951.5</td>\n",
       "      <td>103903.0</td>\n",
       "    </tr>\n",
       "    <tr>\n",
       "      <th>id</th>\n",
       "      <td>103904.0</td>\n",
       "      <td>64924.210502</td>\n",
       "      <td>37463.812252</td>\n",
       "      <td>1.0</td>\n",
       "      <td>64856.5</td>\n",
       "      <td>129880.0</td>\n",
       "    </tr>\n",
       "    <tr>\n",
       "      <th>Age</th>\n",
       "      <td>103904.0</td>\n",
       "      <td>39.379706</td>\n",
       "      <td>15.114964</td>\n",
       "      <td>7.0</td>\n",
       "      <td>40.0</td>\n",
       "      <td>85.0</td>\n",
       "    </tr>\n",
       "    <tr>\n",
       "      <th>Flight Distance</th>\n",
       "      <td>103904.0</td>\n",
       "      <td>1189.448375</td>\n",
       "      <td>997.147281</td>\n",
       "      <td>31.0</td>\n",
       "      <td>843.0</td>\n",
       "      <td>4983.0</td>\n",
       "    </tr>\n",
       "    <tr>\n",
       "      <th>Inflight wifi service</th>\n",
       "      <td>103904.0</td>\n",
       "      <td>2.729683</td>\n",
       "      <td>1.327829</td>\n",
       "      <td>0.0</td>\n",
       "      <td>3.0</td>\n",
       "      <td>5.0</td>\n",
       "    </tr>\n",
       "    <tr>\n",
       "      <th>Departure/Arrival time convenient</th>\n",
       "      <td>103904.0</td>\n",
       "      <td>3.060296</td>\n",
       "      <td>1.525075</td>\n",
       "      <td>0.0</td>\n",
       "      <td>3.0</td>\n",
       "      <td>5.0</td>\n",
       "    </tr>\n",
       "    <tr>\n",
       "      <th>Ease of Online booking</th>\n",
       "      <td>103904.0</td>\n",
       "      <td>2.756901</td>\n",
       "      <td>1.398929</td>\n",
       "      <td>0.0</td>\n",
       "      <td>3.0</td>\n",
       "      <td>5.0</td>\n",
       "    </tr>\n",
       "    <tr>\n",
       "      <th>Gate location</th>\n",
       "      <td>103904.0</td>\n",
       "      <td>2.976883</td>\n",
       "      <td>1.277621</td>\n",
       "      <td>0.0</td>\n",
       "      <td>3.0</td>\n",
       "      <td>5.0</td>\n",
       "    </tr>\n",
       "    <tr>\n",
       "      <th>Food and drink</th>\n",
       "      <td>103904.0</td>\n",
       "      <td>3.202129</td>\n",
       "      <td>1.329533</td>\n",
       "      <td>0.0</td>\n",
       "      <td>3.0</td>\n",
       "      <td>5.0</td>\n",
       "    </tr>\n",
       "    <tr>\n",
       "      <th>Online boarding</th>\n",
       "      <td>103904.0</td>\n",
       "      <td>3.250375</td>\n",
       "      <td>1.349509</td>\n",
       "      <td>0.0</td>\n",
       "      <td>3.0</td>\n",
       "      <td>5.0</td>\n",
       "    </tr>\n",
       "    <tr>\n",
       "      <th>Seat comfort</th>\n",
       "      <td>103904.0</td>\n",
       "      <td>3.439396</td>\n",
       "      <td>1.319088</td>\n",
       "      <td>0.0</td>\n",
       "      <td>4.0</td>\n",
       "      <td>5.0</td>\n",
       "    </tr>\n",
       "    <tr>\n",
       "      <th>Inflight entertainment</th>\n",
       "      <td>103904.0</td>\n",
       "      <td>3.358158</td>\n",
       "      <td>1.332991</td>\n",
       "      <td>0.0</td>\n",
       "      <td>4.0</td>\n",
       "      <td>5.0</td>\n",
       "    </tr>\n",
       "    <tr>\n",
       "      <th>On-board service</th>\n",
       "      <td>103904.0</td>\n",
       "      <td>3.382363</td>\n",
       "      <td>1.288354</td>\n",
       "      <td>0.0</td>\n",
       "      <td>4.0</td>\n",
       "      <td>5.0</td>\n",
       "    </tr>\n",
       "    <tr>\n",
       "      <th>Leg room service</th>\n",
       "      <td>103904.0</td>\n",
       "      <td>3.351055</td>\n",
       "      <td>1.315605</td>\n",
       "      <td>0.0</td>\n",
       "      <td>4.0</td>\n",
       "      <td>5.0</td>\n",
       "    </tr>\n",
       "    <tr>\n",
       "      <th>Baggage handling</th>\n",
       "      <td>103904.0</td>\n",
       "      <td>3.631833</td>\n",
       "      <td>1.180903</td>\n",
       "      <td>1.0</td>\n",
       "      <td>4.0</td>\n",
       "      <td>5.0</td>\n",
       "    </tr>\n",
       "    <tr>\n",
       "      <th>Checkin service</th>\n",
       "      <td>103904.0</td>\n",
       "      <td>3.304290</td>\n",
       "      <td>1.265396</td>\n",
       "      <td>0.0</td>\n",
       "      <td>3.0</td>\n",
       "      <td>5.0</td>\n",
       "    </tr>\n",
       "    <tr>\n",
       "      <th>Inflight service</th>\n",
       "      <td>103904.0</td>\n",
       "      <td>3.640428</td>\n",
       "      <td>1.175663</td>\n",
       "      <td>0.0</td>\n",
       "      <td>4.0</td>\n",
       "      <td>5.0</td>\n",
       "    </tr>\n",
       "    <tr>\n",
       "      <th>Cleanliness</th>\n",
       "      <td>103904.0</td>\n",
       "      <td>3.286351</td>\n",
       "      <td>1.312273</td>\n",
       "      <td>0.0</td>\n",
       "      <td>3.0</td>\n",
       "      <td>5.0</td>\n",
       "    </tr>\n",
       "    <tr>\n",
       "      <th>Departure Delay in Minutes</th>\n",
       "      <td>103904.0</td>\n",
       "      <td>14.815618</td>\n",
       "      <td>38.230901</td>\n",
       "      <td>0.0</td>\n",
       "      <td>0.0</td>\n",
       "      <td>1592.0</td>\n",
       "    </tr>\n",
       "    <tr>\n",
       "      <th>Arrival Delay in Minutes</th>\n",
       "      <td>103594.0</td>\n",
       "      <td>15.178678</td>\n",
       "      <td>38.698682</td>\n",
       "      <td>0.0</td>\n",
       "      <td>0.0</td>\n",
       "      <td>1584.0</td>\n",
       "    </tr>\n",
       "  </tbody>\n",
       "</table>\n",
       "</div>"
      ],
      "text/plain": [
       "                                      count          mean           std   min  \\\n",
       "Unnamed: 0                         103904.0  51951.500000  29994.645522   0.0   \n",
       "id                                 103904.0  64924.210502  37463.812252   1.0   \n",
       "Age                                103904.0     39.379706     15.114964   7.0   \n",
       "Flight Distance                    103904.0   1189.448375    997.147281  31.0   \n",
       "Inflight wifi service              103904.0      2.729683      1.327829   0.0   \n",
       "Departure/Arrival time convenient  103904.0      3.060296      1.525075   0.0   \n",
       "Ease of Online booking             103904.0      2.756901      1.398929   0.0   \n",
       "Gate location                      103904.0      2.976883      1.277621   0.0   \n",
       "Food and drink                     103904.0      3.202129      1.329533   0.0   \n",
       "Online boarding                    103904.0      3.250375      1.349509   0.0   \n",
       "Seat comfort                       103904.0      3.439396      1.319088   0.0   \n",
       "Inflight entertainment             103904.0      3.358158      1.332991   0.0   \n",
       "On-board service                   103904.0      3.382363      1.288354   0.0   \n",
       "Leg room service                   103904.0      3.351055      1.315605   0.0   \n",
       "Baggage handling                   103904.0      3.631833      1.180903   1.0   \n",
       "Checkin service                    103904.0      3.304290      1.265396   0.0   \n",
       "Inflight service                   103904.0      3.640428      1.175663   0.0   \n",
       "Cleanliness                        103904.0      3.286351      1.312273   0.0   \n",
       "Departure Delay in Minutes         103904.0     14.815618     38.230901   0.0   \n",
       "Arrival Delay in Minutes           103594.0     15.178678     38.698682   0.0   \n",
       "\n",
       "                                       50%       max  \n",
       "Unnamed: 0                         51951.5  103903.0  \n",
       "id                                 64856.5  129880.0  \n",
       "Age                                   40.0      85.0  \n",
       "Flight Distance                      843.0    4983.0  \n",
       "Inflight wifi service                  3.0       5.0  \n",
       "Departure/Arrival time convenient      3.0       5.0  \n",
       "Ease of Online booking                 3.0       5.0  \n",
       "Gate location                          3.0       5.0  \n",
       "Food and drink                         3.0       5.0  \n",
       "Online boarding                        3.0       5.0  \n",
       "Seat comfort                           4.0       5.0  \n",
       "Inflight entertainment                 4.0       5.0  \n",
       "On-board service                       4.0       5.0  \n",
       "Leg room service                       4.0       5.0  \n",
       "Baggage handling                       4.0       5.0  \n",
       "Checkin service                        3.0       5.0  \n",
       "Inflight service                       4.0       5.0  \n",
       "Cleanliness                            3.0       5.0  \n",
       "Departure Delay in Minutes             0.0    1592.0  \n",
       "Arrival Delay in Minutes               0.0    1584.0  "
      ]
     },
     "execution_count": 76,
     "metadata": {},
     "output_type": "execute_result"
    }
   ],
   "source": [
    "# Dataset Check\n",
    "df.describe(percentiles=[0.5]).T"
   ]
  },
  {
   "cell_type": "code",
   "execution_count": 77,
   "metadata": {},
   "outputs": [
    {
     "data": {
      "text/html": [
       "<div>\n",
       "<style scoped>\n",
       "    .dataframe tbody tr th:only-of-type {\n",
       "        vertical-align: middle;\n",
       "    }\n",
       "\n",
       "    .dataframe tbody tr th {\n",
       "        vertical-align: top;\n",
       "    }\n",
       "\n",
       "    .dataframe thead th {\n",
       "        text-align: right;\n",
       "    }\n",
       "</style>\n",
       "<table border=\"1\" class=\"dataframe\">\n",
       "  <thead>\n",
       "    <tr style=\"text-align: right;\">\n",
       "      <th></th>\n",
       "      <th>count</th>\n",
       "      <th>unique</th>\n",
       "      <th>top</th>\n",
       "      <th>freq</th>\n",
       "    </tr>\n",
       "  </thead>\n",
       "  <tbody>\n",
       "    <tr>\n",
       "      <th>Gender</th>\n",
       "      <td>103904</td>\n",
       "      <td>2</td>\n",
       "      <td>Female</td>\n",
       "      <td>52727</td>\n",
       "    </tr>\n",
       "    <tr>\n",
       "      <th>Customer Type</th>\n",
       "      <td>103904</td>\n",
       "      <td>2</td>\n",
       "      <td>Loyal Customer</td>\n",
       "      <td>84923</td>\n",
       "    </tr>\n",
       "    <tr>\n",
       "      <th>Type of Travel</th>\n",
       "      <td>103904</td>\n",
       "      <td>2</td>\n",
       "      <td>Business travel</td>\n",
       "      <td>71655</td>\n",
       "    </tr>\n",
       "    <tr>\n",
       "      <th>Class</th>\n",
       "      <td>103904</td>\n",
       "      <td>3</td>\n",
       "      <td>Business</td>\n",
       "      <td>49665</td>\n",
       "    </tr>\n",
       "    <tr>\n",
       "      <th>satisfaction</th>\n",
       "      <td>103904</td>\n",
       "      <td>2</td>\n",
       "      <td>neutral or dissatisfied</td>\n",
       "      <td>58879</td>\n",
       "    </tr>\n",
       "  </tbody>\n",
       "</table>\n",
       "</div>"
      ],
      "text/plain": [
       "                 count unique                      top   freq\n",
       "Gender          103904      2                   Female  52727\n",
       "Customer Type   103904      2           Loyal Customer  84923\n",
       "Type of Travel  103904      2          Business travel  71655\n",
       "Class           103904      3                 Business  49665\n",
       "satisfaction    103904      2  neutral or dissatisfied  58879"
      ]
     },
     "execution_count": 77,
     "metadata": {},
     "output_type": "execute_result"
    }
   ],
   "source": [
    "# Dataset Check\n",
    "df.describe(include=object).T"
   ]
  },
  {
   "cell_type": "code",
   "execution_count": null,
   "metadata": {},
   "outputs": [],
   "source": [
    "df = df.drop(['Unnamed: 0', 'id'], axis = 1)"
   ]
  },
  {
   "cell_type": "markdown",
   "metadata": {},
   "source": [
    "Insight from Dataset Preview process:\n",
    "\n",
    "Based on above process, I get these information:\n",
    "\n",
    "- The dataset consist of 103904 rows of entries and 25 columns.\n",
    "- There are 5 features of object type, 1 feature of float type, and 19 features of integer type.\n",
    "- There are apparent missing values in 'Arrive Delay in Minutes', i'll check it later in the process.\n",
    "- There are no strange values in numerical or categorical features.\n",
    "- We drop 2 columns which is 'Unnamed: 0' and 'id'."
   ]
  },
  {
   "cell_type": "markdown",
   "metadata": {},
   "source": [
    "---\n",
    "# IV. Exploratory Data Analysis"
   ]
  },
  {
   "cell_type": "markdown",
   "metadata": {},
   "source": [
    "**Preliminary Check**\n",
    "\n",
    "Before going deep into the dataset, Let's generaly check the dataset. \n",
    "First of all i will rename the column name."
   ]
  },
  {
   "cell_type": "code",
   "execution_count": 3,
   "metadata": {},
   "outputs": [],
   "source": [
    "# Rename the column\n",
    "df.rename(columns={'Customer Type': 'Customer_Type','Type of Travel' : 'Type_Travel', 'Flight Distance' : 'Flight_distance', \n",
    "                    'Inflight wifi service' : 'Inflight_wifi', 'Departure/Arrival time convenient' : 'Dep/Arv_time', \n",
    "                   'Ease of Online booking' : 'Ease_booking', 'Gate location' : 'Gate_location', 'Food and drink'\t: 'Food_drink',\n",
    "                    'Online boarding' : 'Online_boarding', 'Seat comfort' : 'Seat_comfort', 'Inflight entertainment' : 'Inflight_entertainment',\n",
    "                    'On-board service' : 'On-board_service', 'Leg room service' : 'Leg_room', 'Baggage handling' : 'Baggage_handling',\n",
    "                    'Checkin service' : 'Checkin_service', 'Inflight service' : 'Inflight_service', 'Departure Delay in Minutes' : 'Departure_delay',\n",
    "                    'Arrival Delay in Minutes' : 'Arrival_delay', 'satisfaction' : 'Satisfaction'}, inplace=True)"
   ]
  },
  {
   "cell_type": "markdown",
   "metadata": {},
   "source": [
    "Looks like this variable is good to go. I'll just change the variable name into more cleaner look and change the input into neutral or dissatisfied :0 and satisfied :1."
   ]
  },
  {
   "cell_type": "code",
   "execution_count": 81,
   "metadata": {},
   "outputs": [
    {
     "name": "stdout",
     "output_type": "stream",
     "text": [
      "[0 1]\n"
     ]
    }
   ],
   "source": [
    "# Convert to numerical format\n",
    "# Make dictionary\n",
    "y_rename = {'satisfied':1, 'neutral or dissatisfied':0}\n",
    "# Renaming process\n",
    "df['Satisfaction'] = df['Satisfaction'].map(y_rename)\n",
    "# Confirmation\n",
    "print(df['Satisfaction'].unique())"
   ]
  },
  {
   "cell_type": "code",
   "execution_count": 82,
   "metadata": {},
   "outputs": [
    {
     "name": "stdout",
     "output_type": "stream",
     "text": [
      "variable: Age\n",
      "null value count:  0\n",
      "\n",
      "Descriptive stats:\n",
      "count    103904.000000\n",
      "mean         39.379706\n",
      "std          15.114964\n",
      "min           7.000000\n",
      "25%          27.000000\n",
      "50%          40.000000\n",
      "75%          51.000000\n",
      "max          85.000000\n",
      "Name: Age, dtype: float64\n"
     ]
    }
   ],
   "source": [
    "# Preliminary Check\n",
    "# Variable : Age\n",
    "# Description : Age\n",
    "\n",
    "var = 'Age'\n",
    "\n",
    "print('variable:', var)\n",
    "print('null value count: ', df[var].isnull().sum())\n",
    "print()\n",
    "print('Descriptive stats:')\n",
    "print(df[var].describe())"
   ]
  },
  {
   "cell_type": "markdown",
   "metadata": {},
   "source": [
    "**Univaraite Analysis**\n",
    "\n",
    "In this part of sub-process, I'll try to plot the histogram of numerical features and see the distribution of each feature."
   ]
  },
  {
   "cell_type": "markdown",
   "metadata": {},
   "source": [
    "Since our target parameter is **'Satisfaction'**, let's get to know about it more deeply."
   ]
  },
  {
   "cell_type": "code",
   "execution_count": 4,
   "metadata": {},
   "outputs": [
    {
     "name": "stdout",
     "output_type": "stream",
     "text": [
      "Business    49665\n",
      "Eco         46745\n",
      "Eco Plus     7494\n",
      "Name: Class, dtype: int64\n",
      "\n",
      "Business    47.798930\n",
      "Eco         44.988643\n",
      "Eco Plus     7.212427\n",
      "Name: Class, dtype: float64\n"
     ]
    }
   ],
   "source": [
    "# Number of unique value\n",
    "print(df['Class'].value_counts())\n",
    "print()\n",
    "print(df['Class'].value_counts(normalize=True)*100)"
   ]
  },
  {
   "cell_type": "code",
   "execution_count": 9,
   "metadata": {},
   "outputs": [
    {
     "name": "stdout",
     "output_type": "stream",
     "text": [
      "3    25868\n",
      "2    25830\n",
      "4    19794\n",
      "1    17840\n",
      "5    11469\n",
      "0     3103\n",
      "Name: Inflight_wifi, dtype: int64\n",
      "\n",
      "3    24.896058\n",
      "2    24.859486\n",
      "4    19.050277\n",
      "1    17.169695\n",
      "5    11.038074\n",
      "0     2.986411\n",
      "Name: Inflight_wifi, dtype: float64\n"
     ]
    }
   ],
   "source": [
    "# Number of unique value\n",
    "print(df['Inflight_wifi'].value_counts())\n",
    "print()\n",
    "print(df['Inflight_wifi'].value_counts(normalize=True)*100)"
   ]
  },
  {
   "cell_type": "code",
   "execution_count": 84,
   "metadata": {},
   "outputs": [
    {
     "name": "stdout",
     "output_type": "stream",
     "text": [
      "0    58879\n",
      "1    45025\n",
      "Name: Satisfaction, dtype: int64\n",
      "\n",
      "0    56.666731\n",
      "1    43.333269\n",
      "Name: Satisfaction, dtype: float64\n"
     ]
    }
   ],
   "source": [
    "# Number of unique value\n",
    "print(df['Satisfaction'].value_counts())\n",
    "print()\n",
    "print(df['Satisfaction'].value_counts(normalize=True)*100)"
   ]
  },
  {
   "cell_type": "code",
   "execution_count": 85,
   "metadata": {},
   "outputs": [
    {
     "data": {
      "image/png": "[encoded data removed]",
      "text/plain": [
       "<Figure size 432x288 with 1 Axes>"
      ]
     },
     "metadata": {},
     "output_type": "display_data"
    }
   ],
   "source": [
    "# Distribution Check\n",
    "\n",
    "g= sns.countplot(df['Satisfaction'], palette='Set2')\n",
    "g.set(xticklabels=['neutral or dissatisfied', 'satisfied'])\n",
    "plt.show()"
   ]
  },
  {
   "cell_type": "markdown",
   "metadata": {},
   "source": [
    "From this we can know that our target values has Balance data with 56.6% Not satisfied of total instances, so we can continue process. So the data is quite balanced and it does not require any special treatment/resampling."
   ]
  },
  {
   "cell_type": "code",
   "execution_count": 86,
   "metadata": {},
   "outputs": [
    {
     "data": {
      "image/png": "[encoded data removed]",
      "text/plain": [
       "<Figure size 1080x1080 with 20 Axes>"
      ]
     },
     "metadata": {},
     "output_type": "display_data"
    }
   ],
   "source": [
    "# Histogram Plot\n",
    "df.hist()\n",
    "plt.gcf().set_size_inches(15, 15)\n",
    "plt.show()\n"
   ]
  },
  {
   "cell_type": "markdown",
   "metadata": {},
   "source": [
    "From the graph above, We can see that:\n",
    "\n",
    "- Age, Inflight_wifi, Ease_booking has normal distribution\n",
    "- Flight_distance, Dep/Arv_time, Gate_location, Food_drink, Online_boarding, Seat_comfort,, Inflight_entertainment, On-board_service, Leg_room, Baggage_handling, Checkin_service, Inflight_servicer & Cleanliness follow slight skew distribution."
   ]
  },
  {
   "cell_type": "markdown",
   "metadata": {},
   "source": [
    "**Bivariate/Multivariate Analysis**\n",
    "\n",
    "The purpose of bivariate analysis is to understand the relationship between two or more variables.\n",
    "\n",
    "n this part of sub-process, I will try to explore some facts inside the dataset with **'satisfaction'** variable as my focus."
   ]
  },
  {
   "cell_type": "code",
   "execution_count": 87,
   "metadata": {},
   "outputs": [],
   "source": [
    "# Create function for boxplot\n",
    "def boxplot_variation(feature1, feature2, feature3, width=16):\n",
    "    fig, ax1 = plt.subplots(ncols=1, figsize=(width,6))\n",
    "    s = sns.boxplot(ax = ax1, x=feature1, y=feature2, hue=feature3,\n",
    "                data=df, palette=\"PRGn\",showfliers=False)\n",
    "    s.set_xticklabels(s.get_xticklabels(),rotation=90)\n",
    "    plt.show();"
   ]
  },
  {
   "cell_type": "code",
   "execution_count": 88,
   "metadata": {},
   "outputs": [
    {
     "data": {
      "image/png": "[encoded data removed]",
      "text/plain": [
       "<Figure size 1080x432 with 1 Axes>"
      ]
     },
     "metadata": {},
     "output_type": "display_data"
    }
   ],
   "source": [
    "# Show boxplot graph of Gender ,Age & Satisfaction\n",
    "boxplot_variation('Gender','Age', 'Satisfaction',15)"
   ]
  },
  {
   "cell_type": "markdown",
   "metadata": {},
   "source": [
    "Based on gender, both Male and Females has some balance Satisfaction and Not Satisfied on age 25 into 50 from this we know more Un-satisfied & Satisfied passangers comes from Adults."
   ]
  },
  {
   "cell_type": "code",
   "execution_count": 89,
   "metadata": {},
   "outputs": [
    {
     "data": {
      "image/png": "[encoded data removed]",
      "text/plain": [
       "<Figure size 720x432 with 1 Axes>"
      ]
     },
     "metadata": {},
     "output_type": "display_data"
    }
   ],
   "source": [
    "# Show boxplot graph of Customer_Type, Age & Satisfaction\n",
    "boxplot_variation('Customer_Type','Age', 'Satisfaction',10)"
   ]
  },
  {
   "cell_type": "markdown",
   "metadata": {},
   "source": [
    "As we know from this graph, we can consider Customer_type has more Satisfaction on Loyal Customer than Disloyal Customer, and has higher average between 35 - 50 yo, in this graph we know that loyal customer come from they already young until old, and disloyal customer come from Adults with average on 25 - 30 years old.\n",
    "\n",
    "From this too we can know more Not Satisfied comes from Loyal Customer from young age into Older Age."
   ]
  },
  {
   "cell_type": "code",
   "execution_count": 90,
   "metadata": {},
   "outputs": [
    {
     "data": {
      "image/png": "[encoded data removed]",
      "text/plain": [
       "<Figure size 720x432 with 1 Axes>"
      ]
     },
     "metadata": {},
     "output_type": "display_data"
    }
   ],
   "source": [
    "# Show boxplot graph of Type_Travel, Age & Satrisfaction\n",
    "boxplot_variation('Type_Travel','Age', 'Satisfaction',10)"
   ]
  },
  {
   "cell_type": "markdown",
   "metadata": {},
   "source": [
    "From the graph we can see on Persontal Travel category has balance data with average age of 25 - 55 years old, and Business Travel category has satisfaction average age of 35 - 50 years old and Un-satisfied at 25 - 45 years old, we can know on business travel, the older one always get satisfied with the service and the adult more get Un-satisfied."
   ]
  },
  {
   "cell_type": "code",
   "execution_count": 91,
   "metadata": {},
   "outputs": [
    {
     "data": {
      "image/png": "[encoded data removed]",
      "text/plain": [
       "<Figure size 720x432 with 1 Axes>"
      ]
     },
     "metadata": {},
     "output_type": "display_data"
    }
   ],
   "source": [
    "# Show boxplot graph of Class, Age & Satrisfaction\n",
    "boxplot_variation('Class','Age', 'Satisfaction',10)"
   ]
  },
  {
   "cell_type": "markdown",
   "metadata": {},
   "source": [
    "From Category Eco Plus & Eco has the ratio of satisfied and dissatisfied ones are almost 50% and 50% respectively, but the average satisfied age is higher than average dissatisfied age. From business class we can see the average age of business class has higher satisfaction than average of eco class."
   ]
  },
  {
   "cell_type": "markdown",
   "metadata": {},
   "source": [
    "Cause we already look correlation between each input variables to target variable, now we need to explore more map correlation from every parameter and we need to plot it in a graph."
   ]
  },
  {
   "cell_type": "code",
   "execution_count": 92,
   "metadata": {},
   "outputs": [
    {
     "data": {
      "image/png": "[encoded data removed]",
      "text/plain": [
       "<Figure size 1080x1080 with 2 Axes>"
      ]
     },
     "metadata": {},
     "output_type": "display_data"
    }
   ],
   "source": [
    "\n",
    "# Checking correlation between each variables\n",
    "\n",
    "# Heatmap\n",
    "corrmat = df.corr()\n",
    "top_corr_feature = corrmat.index\n",
    "\n",
    "plt.figure(figsize=(15,15))\n",
    "\n",
    "g = sns.heatmap(df[top_corr_feature].corr(), annot=True, cmap='RdYlGn', square=1, linewidths=0.05)"
   ]
  },
  {
   "cell_type": "code",
   "execution_count": 93,
   "metadata": {},
   "outputs": [
    {
     "data": {
      "image/png": "[encoded data removed]",
      "text/plain": [
       "<Figure size 1440x720 with 1 Axes>"
      ]
     },
     "metadata": {},
     "output_type": "display_data"
    }
   ],
   "source": [
    "# Checking correlation between target variable and input variables\n",
    "\n",
    "df.corrwith(df['Satisfaction']).sort_values().plot.bar(figsize=(20,10), title='Correlation with `DEATH_EVENT`', fontsize=15, rot=45, grid=True)\n",
    "plt.show()"
   ]
  },
  {
   "cell_type": "markdown",
   "metadata": {},
   "source": [
    "Based on graph above, I can summarize top features that correlate with **Satisfaction** target label:\n",
    "\n",
    "- three positive correlated : Online_boarding, Seat_comfort, Inflight_entertainment\n",
    "- three negative correlated : Arrival_delay, Departure_delay, Dep/Arv_time\n",
    "- Dominant passengers get satisfied cause of entertainment service and eas of online booking\n",
    "- And from the facts that we get, The delay of flights was the affected dissastisfied passangers.\n",
    "\n",
    "---"
   ]
  },
  {
   "cell_type": "markdown",
   "metadata": {},
   "source": [
    "# V. Data Preprocessing\n",
    "\n",
    "In this process I split my dataset into train, test, and inference dataset."
   ]
  },
  {
   "cell_type": "markdown",
   "metadata": {},
   "source": [
    "**Dataset Splitting**\n",
    "\n",
    "In this process, I will split my dataset into different set:\n",
    "\n",
    "- Use 80% from dataset for Train Set\n",
    "- Use 20% from dataset for Test Set\n",
    "- Use Test.csv for Inference Set\n",
    "\n",
    "all of those entries will be randomly selected from the dataset."
   ]
  },
  {
   "cell_type": "code",
   "execution_count": 149,
   "metadata": {},
   "outputs": [],
   "source": [
    "#Set Random State\n",
    "random_state = 42"
   ]
  },
  {
   "cell_type": "code",
   "execution_count": 150,
   "metadata": {},
   "outputs": [
    {
     "data": {
      "text/plain": [
       "(25976, 25)"
      ]
     },
     "execution_count": 150,
     "metadata": {},
     "output_type": "execute_result"
    }
   ],
   "source": [
    "# Inference Set Preparation\n",
    "\n",
    "inf_set = pd.read_csv('test.csv')\n",
    "inf_set.shape"
   ]
  },
  {
   "cell_type": "markdown",
   "metadata": {},
   "source": [
    "So because the dataset already split, now the Test.csv we gonna use for Inference set."
   ]
  },
  {
   "cell_type": "code",
   "execution_count": 96,
   "metadata": {},
   "outputs": [],
   "source": [
    "# Splitting Dataset\n",
    "\n",
    "# X will be consist of features only\n",
    "X = df.drop(['Satisfaction'], axis=1)\n",
    "\n",
    "# y will be consist of target only\n",
    "y = df['Satisfaction']"
   ]
  },
  {
   "cell_type": "code",
   "execution_count": 97,
   "metadata": {},
   "outputs": [],
   "source": [
    "# Splitting the dataset into the Training set and Test set\n",
    "X_train, X_test, y_train, y_test = train_test_split(X, y, test_size=0.3, random_state=random_state)"
   ]
  },
  {
   "cell_type": "code",
   "execution_count": 98,
   "metadata": {},
   "outputs": [
    {
     "name": "stdout",
     "output_type": "stream",
     "text": [
      "Train Set shape :  (72732, 22)\n",
      "Test Set shape :  (31172, 22)\n",
      "Inference Set shape :  (25976, 25)\n"
     ]
    }
   ],
   "source": [
    "# Size Summary\n",
    "\n",
    "print('Train Set shape : ', X_train.shape)\n",
    "print('Test Set shape : ', X_test.shape)\n",
    "print('Inference Set shape : ', inf_set.shape)"
   ]
  },
  {
   "cell_type": "markdown",
   "metadata": {},
   "source": [
    "Train set, Test set and Inference set already done splitting, now we can to the next process handling handling missing value and outliers."
   ]
  },
  {
   "cell_type": "markdown",
   "metadata": {},
   "source": [
    "**Outliers Detection**\n",
    "\n",
    "In this sub-process, I will try to identify any outliers inside each numerical input variables.\n",
    "\n",
    "- First, I'll check the distribution of each variable, using skewness value. Any skewness value outside -0.5 to 0.5 will be considered as Skewed Distribution, while any skewness value inside -0.5 to 0.5 will be considered as Normal Distribution.\n",
    "- Second, I'll count how many outliers there in each variable. For Normal Distribution, I'll use Z-score to determine the outliers threshold. For Skewed Distribution, I'll use IQR to determine the outliers threshold.\n",
    "- Third Summarize all the information above."
   ]
  },
  {
   "cell_type": "code",
   "execution_count": 99,
   "metadata": {},
   "outputs": [
    {
     "name": "stdout",
     "output_type": "stream",
     "text": [
      "Generate 'X_train_num' and 'X_train_cat'\n"
     ]
    }
   ],
   "source": [
    "# column categorization\n",
    "def col_categorization(df):\n",
    "    global X_train_num, X_train_cat\n",
    "    X_train_num = df[['Age', 'Flight_distance', 'Inflight_wifi', 'Dep/Arv_time', \n",
    "                    'Ease_booking', 'Gate_location', 'Food_drink', 'Online_boarding', \n",
    "                    'Seat_comfort', 'Inflight_entertainment', 'On-board_service', \n",
    "                    'Leg_room', 'Baggage_handling', 'Checkin_service', 'Inflight_service', \n",
    "                    'Departure_delay', 'Arrival_delay' ]]\n",
    "    X_train_cat = df[['Gender', 'Customer_Type', 'Type_Travel', 'Class']]\n",
    "    print(\"Generate 'X_train_num' and 'X_train_cat'\")\n",
    "\n",
    "# column categorization\n",
    "col_categorization(X_train)"
   ]
  },
  {
   "cell_type": "code",
   "execution_count": 100,
   "metadata": {},
   "outputs": [
    {
     "data": {
      "text/html": [
       "<div>\n",
       "<style scoped>\n",
       "    .dataframe tbody tr th:only-of-type {\n",
       "        vertical-align: middle;\n",
       "    }\n",
       "\n",
       "    .dataframe tbody tr th {\n",
       "        vertical-align: top;\n",
       "    }\n",
       "\n",
       "    .dataframe thead th {\n",
       "        text-align: right;\n",
       "    }\n",
       "</style>\n",
       "<table border=\"1\" class=\"dataframe\">\n",
       "  <thead>\n",
       "    <tr style=\"text-align: right;\">\n",
       "      <th></th>\n",
       "      <th>Age</th>\n",
       "      <th>Flight_distance</th>\n",
       "      <th>Inflight_wifi</th>\n",
       "      <th>Dep/Arv_time</th>\n",
       "      <th>Ease_booking</th>\n",
       "      <th>Gate_location</th>\n",
       "      <th>Food_drink</th>\n",
       "      <th>Online_boarding</th>\n",
       "      <th>Seat_comfort</th>\n",
       "      <th>Inflight_entertainment</th>\n",
       "      <th>On-board_service</th>\n",
       "      <th>Leg_room</th>\n",
       "      <th>Baggage_handling</th>\n",
       "      <th>Checkin_service</th>\n",
       "      <th>Inflight_service</th>\n",
       "      <th>Departure_delay</th>\n",
       "      <th>Arrival_delay</th>\n",
       "    </tr>\n",
       "  </thead>\n",
       "  <tbody>\n",
       "    <tr>\n",
       "      <th>17901</th>\n",
       "      <td>35</td>\n",
       "      <td>1235</td>\n",
       "      <td>1</td>\n",
       "      <td>4</td>\n",
       "      <td>1</td>\n",
       "      <td>3</td>\n",
       "      <td>4</td>\n",
       "      <td>1</td>\n",
       "      <td>4</td>\n",
       "      <td>4</td>\n",
       "      <td>4</td>\n",
       "      <td>4</td>\n",
       "      <td>4</td>\n",
       "      <td>5</td>\n",
       "      <td>5</td>\n",
       "      <td>0</td>\n",
       "      <td>19.0</td>\n",
       "    </tr>\n",
       "    <tr>\n",
       "      <th>49209</th>\n",
       "      <td>56</td>\n",
       "      <td>603</td>\n",
       "      <td>5</td>\n",
       "      <td>5</td>\n",
       "      <td>5</td>\n",
       "      <td>5</td>\n",
       "      <td>4</td>\n",
       "      <td>4</td>\n",
       "      <td>5</td>\n",
       "      <td>5</td>\n",
       "      <td>5</td>\n",
       "      <td>5</td>\n",
       "      <td>5</td>\n",
       "      <td>5</td>\n",
       "      <td>5</td>\n",
       "      <td>89</td>\n",
       "      <td>86.0</td>\n",
       "    </tr>\n",
       "    <tr>\n",
       "      <th>32340</th>\n",
       "      <td>45</td>\n",
       "      <td>2586</td>\n",
       "      <td>2</td>\n",
       "      <td>2</td>\n",
       "      <td>2</td>\n",
       "      <td>3</td>\n",
       "      <td>3</td>\n",
       "      <td>3</td>\n",
       "      <td>4</td>\n",
       "      <td>1</td>\n",
       "      <td>1</td>\n",
       "      <td>2</td>\n",
       "      <td>1</td>\n",
       "      <td>2</td>\n",
       "      <td>1</td>\n",
       "      <td>0</td>\n",
       "      <td>0.0</td>\n",
       "    </tr>\n",
       "    <tr>\n",
       "      <th>50831</th>\n",
       "      <td>47</td>\n",
       "      <td>2422</td>\n",
       "      <td>2</td>\n",
       "      <td>2</td>\n",
       "      <td>2</td>\n",
       "      <td>2</td>\n",
       "      <td>2</td>\n",
       "      <td>5</td>\n",
       "      <td>5</td>\n",
       "      <td>4</td>\n",
       "      <td>4</td>\n",
       "      <td>4</td>\n",
       "      <td>4</td>\n",
       "      <td>4</td>\n",
       "      <td>4</td>\n",
       "      <td>0</td>\n",
       "      <td>0.0</td>\n",
       "    </tr>\n",
       "    <tr>\n",
       "      <th>10989</th>\n",
       "      <td>40</td>\n",
       "      <td>1076</td>\n",
       "      <td>2</td>\n",
       "      <td>4</td>\n",
       "      <td>2</td>\n",
       "      <td>3</td>\n",
       "      <td>4</td>\n",
       "      <td>2</td>\n",
       "      <td>4</td>\n",
       "      <td>4</td>\n",
       "      <td>5</td>\n",
       "      <td>3</td>\n",
       "      <td>5</td>\n",
       "      <td>4</td>\n",
       "      <td>4</td>\n",
       "      <td>18</td>\n",
       "      <td>18.0</td>\n",
       "    </tr>\n",
       "  </tbody>\n",
       "</table>\n",
       "</div>"
      ],
      "text/plain": [
       "       Age  Flight_distance  Inflight_wifi  Dep/Arv_time  Ease_booking  \\\n",
       "17901   35             1235              1             4             1   \n",
       "49209   56              603              5             5             5   \n",
       "32340   45             2586              2             2             2   \n",
       "50831   47             2422              2             2             2   \n",
       "10989   40             1076              2             4             2   \n",
       "\n",
       "       Gate_location  Food_drink  Online_boarding  Seat_comfort  \\\n",
       "17901              3           4                1             4   \n",
       "49209              5           4                4             5   \n",
       "32340              3           3                3             4   \n",
       "50831              2           2                5             5   \n",
       "10989              3           4                2             4   \n",
       "\n",
       "       Inflight_entertainment  On-board_service  Leg_room  Baggage_handling  \\\n",
       "17901                       4                 4         4                 4   \n",
       "49209                       5                 5         5                 5   \n",
       "32340                       1                 1         2                 1   \n",
       "50831                       4                 4         4                 4   \n",
       "10989                       4                 5         3                 5   \n",
       "\n",
       "       Checkin_service  Inflight_service  Departure_delay  Arrival_delay  \n",
       "17901                5                 5                0           19.0  \n",
       "49209                5                 5               89           86.0  \n",
       "32340                2                 1                0            0.0  \n",
       "50831                4                 4                0            0.0  \n",
       "10989                4                 4               18           18.0  "
      ]
     },
     "execution_count": 100,
     "metadata": {},
     "output_type": "execute_result"
    }
   ],
   "source": [
    "# Confirmation Check\n",
    "X_train_num.head()"
   ]
  },
  {
   "cell_type": "code",
   "execution_count": 101,
   "metadata": {},
   "outputs": [
    {
     "data": {
      "text/html": [
       "<div>\n",
       "<style scoped>\n",
       "    .dataframe tbody tr th:only-of-type {\n",
       "        vertical-align: middle;\n",
       "    }\n",
       "\n",
       "    .dataframe tbody tr th {\n",
       "        vertical-align: top;\n",
       "    }\n",
       "\n",
       "    .dataframe thead th {\n",
       "        text-align: right;\n",
       "    }\n",
       "</style>\n",
       "<table border=\"1\" class=\"dataframe\">\n",
       "  <thead>\n",
       "    <tr style=\"text-align: right;\">\n",
       "      <th></th>\n",
       "      <th>Gender</th>\n",
       "      <th>Customer_Type</th>\n",
       "      <th>Type_Travel</th>\n",
       "      <th>Class</th>\n",
       "    </tr>\n",
       "  </thead>\n",
       "  <tbody>\n",
       "    <tr>\n",
       "      <th>17901</th>\n",
       "      <td>Female</td>\n",
       "      <td>Loyal Customer</td>\n",
       "      <td>Personal Travel</td>\n",
       "      <td>Eco</td>\n",
       "    </tr>\n",
       "    <tr>\n",
       "      <th>49209</th>\n",
       "      <td>Male</td>\n",
       "      <td>Loyal Customer</td>\n",
       "      <td>Business travel</td>\n",
       "      <td>Business</td>\n",
       "    </tr>\n",
       "    <tr>\n",
       "      <th>32340</th>\n",
       "      <td>Female</td>\n",
       "      <td>Loyal Customer</td>\n",
       "      <td>Personal Travel</td>\n",
       "      <td>Eco</td>\n",
       "    </tr>\n",
       "    <tr>\n",
       "      <th>50831</th>\n",
       "      <td>Male</td>\n",
       "      <td>Loyal Customer</td>\n",
       "      <td>Business travel</td>\n",
       "      <td>Business</td>\n",
       "    </tr>\n",
       "    <tr>\n",
       "      <th>10989</th>\n",
       "      <td>Male</td>\n",
       "      <td>Loyal Customer</td>\n",
       "      <td>Personal Travel</td>\n",
       "      <td>Eco</td>\n",
       "    </tr>\n",
       "  </tbody>\n",
       "</table>\n",
       "</div>"
      ],
      "text/plain": [
       "       Gender   Customer_Type      Type_Travel     Class\n",
       "17901  Female  Loyal Customer  Personal Travel       Eco\n",
       "49209    Male  Loyal Customer  Business travel  Business\n",
       "32340  Female  Loyal Customer  Personal Travel       Eco\n",
       "50831    Male  Loyal Customer  Business travel  Business\n",
       "10989    Male  Loyal Customer  Personal Travel       Eco"
      ]
     },
     "execution_count": 101,
     "metadata": {},
     "output_type": "execute_result"
    }
   ],
   "source": [
    "# Confirmation Check\n",
    "X_train_cat.head()"
   ]
  },
  {
   "cell_type": "markdown",
   "metadata": {},
   "source": [
    "After we splitting each feature from categorization and numerical. Now we need to create a funtion to detect outliers from each feature so we can handle outliers perfectly before we train to our model."
   ]
  },
  {
   "cell_type": "code",
   "execution_count": 102,
   "metadata": {},
   "outputs": [],
   "source": [
    "# create function to detect outliers based on distribution\n",
    "def detect_outliers(df, k=1.5):\n",
    "    #create dataframe with columns name : feature, distribution, outlier\n",
    "    global df_outliers\n",
    "    df_outliers = pd.DataFrame(columns=['col_name','distribution','bottom_limit', 'upper_limit', 'left_tail','right_tail','outliers_count','percentage'])\n",
    "    #create loop for each feature\n",
    "    for i in range(len(df.columns)):\n",
    "        #create if statement for each distribution\n",
    "        if df.iloc[:,i].skew() > -0.5 and df.iloc[:,i].skew() < 0.5 :\n",
    "            #count outlier for normal distribution based on z-score\n",
    "            df_outliers.loc[i] = [df.columns[i], # col_name\n",
    "                                'normal', # distribution,\n",
    "                                stats.zscore(df.iloc[:,i], nan_policy='omit').min(), # bottom limit\n",
    "                                stats.zscore(df.iloc[:,i], nan_policy='omit').max(), # upper limit\n",
    "                                df.iloc[:,i][(stats.zscore(df.iloc[:,i],nan_policy='omit'))<-3].count(), # left_tail\n",
    "                                df.iloc[:,i][(stats.zscore(df.iloc[:,i],nan_policy='omit'))>3].count(), # right_tail\n",
    "                                df.iloc[:,i][abs(stats.zscore(df.iloc[:,i],nan_policy='omit'))>3].count(), # outliers_count\n",
    "                                df.iloc[:,i][abs(stats.zscore(df.iloc[:,i],nan_policy='omit'))>3].count()/len(df.iloc[:,i])*100] # percentage\n",
    "        else:\n",
    "            #count outlier for skew distribution based on IQR\n",
    "            Q1 = df.iloc[:,i].quantile(0.25)\n",
    "            Q3 = df.iloc[:,i].quantile(0.75)\n",
    "            IQR = Q3 - Q1\n",
    "            df_outliers.loc[i] = [df.columns[i], # col_name\n",
    "                                'skew', # distribution,\n",
    "                                Q1-k*IQR, # bottom limit\n",
    "                                Q1+k*IQR, # upper limit\n",
    "                                df.iloc[:,i][(df.iloc[:,i]<(Q1-1.5*IQR))].count(), # left_tail\n",
    "                                df.iloc[:,i][(df.iloc[:,i]>(Q3+1.5*IQR))].count(), # right_tail\n",
    "                                df.iloc[:,i][(df.iloc[:,i]<(Q1-1.5*IQR))|(df.iloc[:,i]>(Q3+1.5*IQR))].count(), # outliers_count\n",
    "                                df.iloc[:,i][(df.iloc[:,i]<(Q1-1.5*IQR))|(df.iloc[:,i]>(Q3+1.5*IQR))].count()/len(df.iloc[:,i])*100] # percentage\n",
    "    print('Generate df_outliers')"
   ]
  },
  {
   "cell_type": "code",
   "execution_count": 103,
   "metadata": {},
   "outputs": [
    {
     "name": "stdout",
     "output_type": "stream",
     "text": [
      "Generate df_outliers\n"
     ]
    },
    {
     "data": {
      "text/html": [
       "<div>\n",
       "<style scoped>\n",
       "    .dataframe tbody tr th:only-of-type {\n",
       "        vertical-align: middle;\n",
       "    }\n",
       "\n",
       "    .dataframe tbody tr th {\n",
       "        vertical-align: top;\n",
       "    }\n",
       "\n",
       "    .dataframe thead th {\n",
       "        text-align: right;\n",
       "    }\n",
       "</style>\n",
       "<table border=\"1\" class=\"dataframe\">\n",
       "  <thead>\n",
       "    <tr style=\"text-align: right;\">\n",
       "      <th></th>\n",
       "      <th>col_name</th>\n",
       "      <th>distribution</th>\n",
       "      <th>bottom_limit</th>\n",
       "      <th>upper_limit</th>\n",
       "      <th>left_tail</th>\n",
       "      <th>right_tail</th>\n",
       "      <th>outliers_count</th>\n",
       "      <th>percentage</th>\n",
       "    </tr>\n",
       "  </thead>\n",
       "  <tbody>\n",
       "    <tr>\n",
       "      <th>15</th>\n",
       "      <td>Departure_delay</td>\n",
       "      <td>skew</td>\n",
       "      <td>-18.000000</td>\n",
       "      <td>18.000000</td>\n",
       "      <td>0</td>\n",
       "      <td>10204</td>\n",
       "      <td>10204</td>\n",
       "      <td>14.029588</td>\n",
       "    </tr>\n",
       "    <tr>\n",
       "      <th>16</th>\n",
       "      <td>Arrival_delay</td>\n",
       "      <td>skew</td>\n",
       "      <td>-19.500000</td>\n",
       "      <td>19.500000</td>\n",
       "      <td>0</td>\n",
       "      <td>9820</td>\n",
       "      <td>9820</td>\n",
       "      <td>13.501622</td>\n",
       "    </tr>\n",
       "    <tr>\n",
       "      <th>1</th>\n",
       "      <td>Flight_distance</td>\n",
       "      <td>skew</td>\n",
       "      <td>-1583.500000</td>\n",
       "      <td>2409.500000</td>\n",
       "      <td>0</td>\n",
       "      <td>1587</td>\n",
       "      <td>1587</td>\n",
       "      <td>2.181983</td>\n",
       "    </tr>\n",
       "    <tr>\n",
       "      <th>0</th>\n",
       "      <td>Age</td>\n",
       "      <td>normal</td>\n",
       "      <td>-2.138609</td>\n",
       "      <td>3.021749</td>\n",
       "      <td>0</td>\n",
       "      <td>13</td>\n",
       "      <td>13</td>\n",
       "      <td>0.017874</td>\n",
       "    </tr>\n",
       "    <tr>\n",
       "      <th>4</th>\n",
       "      <td>Ease_booking</td>\n",
       "      <td>normal</td>\n",
       "      <td>-1.970530</td>\n",
       "      <td>1.605422</td>\n",
       "      <td>0</td>\n",
       "      <td>0</td>\n",
       "      <td>0</td>\n",
       "      <td>0.000000</td>\n",
       "    </tr>\n",
       "    <tr>\n",
       "      <th>5</th>\n",
       "      <td>Gate_location</td>\n",
       "      <td>normal</td>\n",
       "      <td>-2.335449</td>\n",
       "      <td>1.585828</td>\n",
       "      <td>0</td>\n",
       "      <td>0</td>\n",
       "      <td>0</td>\n",
       "      <td>0.000000</td>\n",
       "    </tr>\n",
       "    <tr>\n",
       "      <th>6</th>\n",
       "      <td>Food_drink</td>\n",
       "      <td>normal</td>\n",
       "      <td>-2.412290</td>\n",
       "      <td>1.355559</td>\n",
       "      <td>0</td>\n",
       "      <td>0</td>\n",
       "      <td>0</td>\n",
       "      <td>0.000000</td>\n",
       "    </tr>\n",
       "    <tr>\n",
       "      <th>7</th>\n",
       "      <td>Online_boarding</td>\n",
       "      <td>normal</td>\n",
       "      <td>-2.402615</td>\n",
       "      <td>1.301221</td>\n",
       "      <td>0</td>\n",
       "      <td>0</td>\n",
       "      <td>0</td>\n",
       "      <td>0.000000</td>\n",
       "    </tr>\n",
       "    <tr>\n",
       "      <th>3</th>\n",
       "      <td>Dep/Arv_time</td>\n",
       "      <td>normal</td>\n",
       "      <td>-1.999446</td>\n",
       "      <td>1.271457</td>\n",
       "      <td>0</td>\n",
       "      <td>0</td>\n",
       "      <td>0</td>\n",
       "      <td>0.000000</td>\n",
       "    </tr>\n",
       "    <tr>\n",
       "      <th>9</th>\n",
       "      <td>Inflight_entertainment</td>\n",
       "      <td>normal</td>\n",
       "      <td>-2.520087</td>\n",
       "      <td>1.237970</td>\n",
       "      <td>0</td>\n",
       "      <td>0</td>\n",
       "      <td>0</td>\n",
       "      <td>0.000000</td>\n",
       "    </tr>\n",
       "    <tr>\n",
       "      <th>10</th>\n",
       "      <td>On-board_service</td>\n",
       "      <td>normal</td>\n",
       "      <td>-2.626976</td>\n",
       "      <td>1.256400</td>\n",
       "      <td>0</td>\n",
       "      <td>0</td>\n",
       "      <td>0</td>\n",
       "      <td>0.000000</td>\n",
       "    </tr>\n",
       "    <tr>\n",
       "      <th>11</th>\n",
       "      <td>Leg_room</td>\n",
       "      <td>normal</td>\n",
       "      <td>-2.551362</td>\n",
       "      <td>1.254161</td>\n",
       "      <td>0</td>\n",
       "      <td>0</td>\n",
       "      <td>0</td>\n",
       "      <td>0.000000</td>\n",
       "    </tr>\n",
       "    <tr>\n",
       "      <th>12</th>\n",
       "      <td>Baggage_handling</td>\n",
       "      <td>skew</td>\n",
       "      <td>0.000000</td>\n",
       "      <td>6.000000</td>\n",
       "      <td>0</td>\n",
       "      <td>0</td>\n",
       "      <td>0</td>\n",
       "      <td>0.000000</td>\n",
       "    </tr>\n",
       "    <tr>\n",
       "      <th>13</th>\n",
       "      <td>Checkin_service</td>\n",
       "      <td>normal</td>\n",
       "      <td>-2.609676</td>\n",
       "      <td>1.339913</td>\n",
       "      <td>0</td>\n",
       "      <td>0</td>\n",
       "      <td>0</td>\n",
       "      <td>0.000000</td>\n",
       "    </tr>\n",
       "    <tr>\n",
       "      <th>14</th>\n",
       "      <td>Inflight_service</td>\n",
       "      <td>skew</td>\n",
       "      <td>0.000000</td>\n",
       "      <td>6.000000</td>\n",
       "      <td>0</td>\n",
       "      <td>0</td>\n",
       "      <td>0</td>\n",
       "      <td>0.000000</td>\n",
       "    </tr>\n",
       "    <tr>\n",
       "      <th>2</th>\n",
       "      <td>Inflight_wifi</td>\n",
       "      <td>normal</td>\n",
       "      <td>-2.055146</td>\n",
       "      <td>1.712584</td>\n",
       "      <td>0</td>\n",
       "      <td>0</td>\n",
       "      <td>0</td>\n",
       "      <td>0.000000</td>\n",
       "    </tr>\n",
       "    <tr>\n",
       "      <th>8</th>\n",
       "      <td>Seat_comfort</td>\n",
       "      <td>normal</td>\n",
       "      <td>-2.602972</td>\n",
       "      <td>1.185658</td>\n",
       "      <td>0</td>\n",
       "      <td>0</td>\n",
       "      <td>0</td>\n",
       "      <td>0.000000</td>\n",
       "    </tr>\n",
       "  </tbody>\n",
       "</table>\n",
       "</div>"
      ],
      "text/plain": [
       "                  col_name distribution  bottom_limit  upper_limit left_tail  \\\n",
       "15         Departure_delay         skew    -18.000000    18.000000         0   \n",
       "16           Arrival_delay         skew    -19.500000    19.500000         0   \n",
       "1          Flight_distance         skew  -1583.500000  2409.500000         0   \n",
       "0                      Age       normal     -2.138609     3.021749         0   \n",
       "4             Ease_booking       normal     -1.970530     1.605422         0   \n",
       "5            Gate_location       normal     -2.335449     1.585828         0   \n",
       "6               Food_drink       normal     -2.412290     1.355559         0   \n",
       "7          Online_boarding       normal     -2.402615     1.301221         0   \n",
       "3             Dep/Arv_time       normal     -1.999446     1.271457         0   \n",
       "9   Inflight_entertainment       normal     -2.520087     1.237970         0   \n",
       "10        On-board_service       normal     -2.626976     1.256400         0   \n",
       "11                Leg_room       normal     -2.551362     1.254161         0   \n",
       "12        Baggage_handling         skew      0.000000     6.000000         0   \n",
       "13         Checkin_service       normal     -2.609676     1.339913         0   \n",
       "14        Inflight_service         skew      0.000000     6.000000         0   \n",
       "2            Inflight_wifi       normal     -2.055146     1.712584         0   \n",
       "8             Seat_comfort       normal     -2.602972     1.185658         0   \n",
       "\n",
       "   right_tail outliers_count  percentage  \n",
       "15      10204          10204   14.029588  \n",
       "16       9820           9820   13.501622  \n",
       "1        1587           1587    2.181983  \n",
       "0          13             13    0.017874  \n",
       "4           0              0    0.000000  \n",
       "5           0              0    0.000000  \n",
       "6           0              0    0.000000  \n",
       "7           0              0    0.000000  \n",
       "3           0              0    0.000000  \n",
       "9           0              0    0.000000  \n",
       "10          0              0    0.000000  \n",
       "11          0              0    0.000000  \n",
       "12          0              0    0.000000  \n",
       "13          0              0    0.000000  \n",
       "14          0              0    0.000000  \n",
       "2           0              0    0.000000  \n",
       "8           0              0    0.000000  "
      ]
     },
     "execution_count": 103,
     "metadata": {},
     "output_type": "execute_result"
    }
   ],
   "source": [
    "# Outliers Summary\n",
    "detect_outliers(X_train_num)\n",
    "df_outliers.sort_values(by='percentage',ascending=False)"
   ]
  },
  {
   "cell_type": "markdown",
   "metadata": {},
   "source": [
    "let's look there on out dataset mostly has normal distribution because from this we have balance dataset, but there are some skewed distribution that has outliers more than 10%, so we need to handle it first, Here are what I'll do:\n",
    "\n",
    "- I'll trim any outliers that has outliers percentage below 5%\n",
    "- I'll cap any outliers that has outliers percentage between 5% to 15%"
   ]
  },
  {
   "cell_type": "code",
   "execution_count": 104,
   "metadata": {},
   "outputs": [],
   "source": [
    "# Create function to handling outliers\n",
    "def handling_outliers(exception_list):\n",
    "   global train_set,y_train, norm_under_5, norm_5to15, skew_under_5, skew_5to15\n",
    "   exception_list = exception_list\n",
    "\n",
    "   norm_under_5 = df_outliers[df_outliers['distribution']=='normal'][df_outliers['percentage']<5]['col_name'].tolist()\n",
    "   norm_5to15 = df_outliers[df_outliers['distribution']=='normal'][df_outliers['percentage']>=5][df_outliers['percentage']<15]['col_name'].tolist()\n",
    "   skew_under_5 = df_outliers[df_outliers['distribution']=='skew'][df_outliers['percentage']<5]['col_name'].tolist()\n",
    "   skew_5to15 = df_outliers[df_outliers['distribution']=='skew'][df_outliers['percentage']>=5][df_outliers['percentage']<15]['col_name'].tolist() \n",
    "\n",
    "   norm_under_5 = [x for x in norm_under_5 if x not in exception_list]\n",
    "   norm_5to15 = [x for x in norm_5to15 if x not in exception_list]\n",
    "   skew_under_5 = [x for x in skew_under_5 if x not in exception_list]\n",
    "   skew_5to15 = [x for x in skew_5to15 if x not in exception_list]\n",
    "\n",
    "\n",
    "   custom_list = ['norm_under_5','norm_over_5','skew_under_5','skew_over_5']\n",
    "\n",
    "   for i in custom_list: \n",
    "      if i == 'norm_under_5' and len(norm_under_5)!= 0:\n",
    "         \n",
    "         trim_norm = OutlierTrimmer(capping_method='gaussian',\n",
    "                                    tail='both', # left/right/both\n",
    "                                    fold=3, # for gaussian 2 or 3\n",
    "                                    variables=norm_under_5,\n",
    "                                    missing_values='ignore')    \n",
    "         trim_norm.fit(train_set)\n",
    "\n",
    "         df = trim_norm.transform(train_set)\n",
    "         \n",
    "         # #intersection of y_train and train_set index location\n",
    "         y_train = y_train.loc[y_train.index.intersection(train_set.index)]\n",
    "\n",
    "      elif i == 'norm_over_5' and len(norm_5to15)!= 0:\n",
    "\n",
    "         winsorizer_norm = Winsorizer(capping_method='gaussian',\n",
    "                                    tail='both', # left/right/both\n",
    "                                    fold=3, # for gaussian 2 or 3\n",
    "                                    variables=norm_5to15,\n",
    "                                    missing_values='ignore')    \n",
    "         winsorizer_norm.fit(train_set)\n",
    "\n",
    "         train_set = winsorizer_norm.transform(train_set)\n",
    "       \n",
    "   \n",
    "      elif i == 'skew_under_5'and len(skew_under_5)!= 0:\n",
    "         \n",
    "         trim_skew = OutlierTrimmer(capping_method='iqr',\n",
    "                                    tail='both', # left/right/both\n",
    "                                    fold=1.5, # for iqr 1 or 2\n",
    "                                    variables=skew_under_5,\n",
    "                                    missing_values='ignore')    \n",
    "         trim_skew.fit(train_set)\n",
    "\n",
    "         train_set = trim_skew.transform(train_set)\n",
    "\n",
    "         # #intersection of y_train and train_set\n",
    "         y_train = y_train.loc[y_train.index.intersection(train_set.index)]\n",
    "   \n",
    "      elif i == 'skew_over_5' and len(skew_5to15)!= 0:\n",
    "\n",
    "         winsorizer_skew = Winsorizer(capping_method='iqr',\n",
    "                                    tail='both', # left/right/both\n",
    "                                    fold=1.5, # for iqr 1 or 2\n",
    "                                    variables=skew_5to15,\n",
    "                                    missing_values='ignore')    \n",
    "         winsorizer_skew.fit(train_set)\n",
    "\n",
    "         train_set = winsorizer_skew.transform(train_set)"
   ]
  },
  {
   "cell_type": "code",
   "execution_count": 105,
   "metadata": {},
   "outputs": [
    {
     "name": "stdout",
     "output_type": "stream",
     "text": [
      "X_train Before (72732, 22)\n",
      "y_train Before (72732,)\n",
      "X_train After (72732, 22)\n",
      "y_train After (72732,)\n"
     ]
    }
   ],
   "source": [
    "# Outliers Handling Summary\n",
    "print('X_train Before', X_train.shape)\n",
    "print('y_train Before', y_train.shape)\n",
    "print('X_train After', X_train.shape)\n",
    "print('y_train After', y_train.shape)"
   ]
  },
  {
   "cell_type": "markdown",
   "metadata": {},
   "source": [
    "So we are already check our dataset has already handling outliers, Now Let's continue to next process."
   ]
  },
  {
   "cell_type": "markdown",
   "metadata": {},
   "source": [
    "**Missing Value Detection**\n",
    "\n",
    "In this sub-process, I will handle any missing value inside the dataset.\n",
    "\n",
    "First, let's check missing value in the target dataset."
   ]
  },
  {
   "cell_type": "code",
   "execution_count": 106,
   "metadata": {},
   "outputs": [
    {
     "data": {
      "text/plain": [
       "0"
      ]
     },
     "execution_count": 106,
     "metadata": {},
     "output_type": "execute_result"
    }
   ],
   "source": [
    "# Missing Value check\n",
    "# y_train Set\n",
    "y_train.isna().sum()"
   ]
  },
  {
   "cell_type": "code",
   "execution_count": 107,
   "metadata": {},
   "outputs": [
    {
     "data": {
      "text/plain": [
       "0"
      ]
     },
     "execution_count": 107,
     "metadata": {},
     "output_type": "execute_result"
    }
   ],
   "source": [
    "# Missing Value check\n",
    "# y_test Set\n",
    "y_test.isna().sum()"
   ]
  },
  {
   "cell_type": "markdown",
   "metadata": {},
   "source": [
    "Because there are no missing value inside the target variable, so i will continue check the train set for preparing machine learning model."
   ]
  },
  {
   "cell_type": "code",
   "execution_count": 108,
   "metadata": {},
   "outputs": [],
   "source": [
    "# Create function to detect missing values\n",
    "\n",
    "def detect_missval(df):\n",
    "    global df_missval\n",
    "    df_missval = pd.DataFrame(columns=['col_name','missing_count','missing_percentage'])\n",
    "    for i in range(len(df.columns)):\n",
    "        if df.iloc[:,i].isnull().sum() != 0:\n",
    "            df_missval.loc[i] = [df.columns[i], # col_name\n",
    "                                df.iloc[:,i].isnull().sum(), # missing_count\n",
    "                                df.iloc[:,i].isnull().sum()/len(df.iloc[:,i])*100] # missing_percentage\n",
    "    print('Generate df_missval')\n",
    "    return df_missval"
   ]
  },
  {
   "cell_type": "code",
   "execution_count": 109,
   "metadata": {},
   "outputs": [
    {
     "name": "stdout",
     "output_type": "stream",
     "text": [
      "Generate df_missval\n"
     ]
    },
    {
     "data": {
      "text/html": [
       "<div>\n",
       "<style scoped>\n",
       "    .dataframe tbody tr th:only-of-type {\n",
       "        vertical-align: middle;\n",
       "    }\n",
       "\n",
       "    .dataframe tbody tr th {\n",
       "        vertical-align: top;\n",
       "    }\n",
       "\n",
       "    .dataframe thead th {\n",
       "        text-align: right;\n",
       "    }\n",
       "</style>\n",
       "<table border=\"1\" class=\"dataframe\">\n",
       "  <thead>\n",
       "    <tr style=\"text-align: right;\">\n",
       "      <th></th>\n",
       "      <th>col_name</th>\n",
       "      <th>missing_count</th>\n",
       "      <th>missing_percentage</th>\n",
       "    </tr>\n",
       "  </thead>\n",
       "  <tbody>\n",
       "    <tr>\n",
       "      <th>21</th>\n",
       "      <td>Arrival_delay</td>\n",
       "      <td>219</td>\n",
       "      <td>0.301105</td>\n",
       "    </tr>\n",
       "  </tbody>\n",
       "</table>\n",
       "</div>"
      ],
      "text/plain": [
       "         col_name missing_count  missing_percentage\n",
       "21  Arrival_delay           219            0.301105"
      ]
     },
     "execution_count": 109,
     "metadata": {},
     "output_type": "execute_result"
    }
   ],
   "source": [
    "# Missing Value check\n",
    "# X_train Set\n",
    "detect_missval(X_train)"
   ]
  },
  {
   "cell_type": "code",
   "execution_count": 110,
   "metadata": {},
   "outputs": [
    {
     "name": "stdout",
     "output_type": "stream",
     "text": [
      "Generate df_missval\n"
     ]
    },
    {
     "data": {
      "text/html": [
       "<div>\n",
       "<style scoped>\n",
       "    .dataframe tbody tr th:only-of-type {\n",
       "        vertical-align: middle;\n",
       "    }\n",
       "\n",
       "    .dataframe tbody tr th {\n",
       "        vertical-align: top;\n",
       "    }\n",
       "\n",
       "    .dataframe thead th {\n",
       "        text-align: right;\n",
       "    }\n",
       "</style>\n",
       "<table border=\"1\" class=\"dataframe\">\n",
       "  <thead>\n",
       "    <tr style=\"text-align: right;\">\n",
       "      <th></th>\n",
       "      <th>col_name</th>\n",
       "      <th>missing_count</th>\n",
       "      <th>missing_percentage</th>\n",
       "    </tr>\n",
       "  </thead>\n",
       "  <tbody>\n",
       "    <tr>\n",
       "      <th>21</th>\n",
       "      <td>Arrival_delay</td>\n",
       "      <td>91</td>\n",
       "      <td>0.291929</td>\n",
       "    </tr>\n",
       "  </tbody>\n",
       "</table>\n",
       "</div>"
      ],
      "text/plain": [
       "         col_name missing_count  missing_percentage\n",
       "21  Arrival_delay            91            0.291929"
      ]
     },
     "execution_count": 110,
     "metadata": {},
     "output_type": "execute_result"
    }
   ],
   "source": [
    "# Missing Value check\n",
    "# X_test Set\n",
    "detect_missval(X_test)"
   ]
  },
  {
   "cell_type": "markdown",
   "metadata": {},
   "source": [
    "From results above, We can see that there are missing values in both of Train and Test Set and is below 1%. Let's take a closer look into it."
   ]
  },
  {
   "cell_type": "code",
   "execution_count": 111,
   "metadata": {},
   "outputs": [
    {
     "data": {
      "text/html": [
       "<div>\n",
       "<style scoped>\n",
       "    .dataframe tbody tr th:only-of-type {\n",
       "        vertical-align: middle;\n",
       "    }\n",
       "\n",
       "    .dataframe tbody tr th {\n",
       "        vertical-align: top;\n",
       "    }\n",
       "\n",
       "    .dataframe thead th {\n",
       "        text-align: right;\n",
       "    }\n",
       "</style>\n",
       "<table border=\"1\" class=\"dataframe\">\n",
       "  <thead>\n",
       "    <tr style=\"text-align: right;\">\n",
       "      <th></th>\n",
       "      <th>Gender</th>\n",
       "      <th>Customer_Type</th>\n",
       "      <th>Age</th>\n",
       "      <th>Type_Travel</th>\n",
       "      <th>Class</th>\n",
       "      <th>Flight_distance</th>\n",
       "      <th>Inflight_wifi</th>\n",
       "      <th>Dep/Arv_time</th>\n",
       "      <th>Ease_booking</th>\n",
       "      <th>Gate_location</th>\n",
       "      <th>Food_drink</th>\n",
       "      <th>Online_boarding</th>\n",
       "      <th>Seat_comfort</th>\n",
       "      <th>Inflight_entertainment</th>\n",
       "      <th>On-board_service</th>\n",
       "      <th>Leg_room</th>\n",
       "      <th>Baggage_handling</th>\n",
       "      <th>Checkin_service</th>\n",
       "      <th>Inflight_service</th>\n",
       "      <th>Cleanliness</th>\n",
       "      <th>Departure_delay</th>\n",
       "      <th>Arrival_delay</th>\n",
       "    </tr>\n",
       "  </thead>\n",
       "  <tbody>\n",
       "    <tr>\n",
       "      <th>96093</th>\n",
       "      <td>Female</td>\n",
       "      <td>disloyal Customer</td>\n",
       "      <td>20</td>\n",
       "      <td>Business travel</td>\n",
       "      <td>Eco</td>\n",
       "      <td>598</td>\n",
       "      <td>4</td>\n",
       "      <td>0</td>\n",
       "      <td>4</td>\n",
       "      <td>4</td>\n",
       "      <td>5</td>\n",
       "      <td>4</td>\n",
       "      <td>4</td>\n",
       "      <td>5</td>\n",
       "      <td>1</td>\n",
       "      <td>2</td>\n",
       "      <td>5</td>\n",
       "      <td>4</td>\n",
       "      <td>1</td>\n",
       "      <td>5</td>\n",
       "      <td>0</td>\n",
       "      <td>NaN</td>\n",
       "    </tr>\n",
       "    <tr>\n",
       "      <th>53401</th>\n",
       "      <td>Female</td>\n",
       "      <td>Loyal Customer</td>\n",
       "      <td>11</td>\n",
       "      <td>Business travel</td>\n",
       "      <td>Eco</td>\n",
       "      <td>2576</td>\n",
       "      <td>0</td>\n",
       "      <td>5</td>\n",
       "      <td>0</td>\n",
       "      <td>5</td>\n",
       "      <td>0</td>\n",
       "      <td>5</td>\n",
       "      <td>5</td>\n",
       "      <td>1</td>\n",
       "      <td>2</td>\n",
       "      <td>5</td>\n",
       "      <td>5</td>\n",
       "      <td>5</td>\n",
       "      <td>2</td>\n",
       "      <td>5</td>\n",
       "      <td>160</td>\n",
       "      <td>NaN</td>\n",
       "    </tr>\n",
       "    <tr>\n",
       "      <th>29918</th>\n",
       "      <td>Male</td>\n",
       "      <td>Loyal Customer</td>\n",
       "      <td>58</td>\n",
       "      <td>Personal Travel</td>\n",
       "      <td>Eco</td>\n",
       "      <td>833</td>\n",
       "      <td>2</td>\n",
       "      <td>5</td>\n",
       "      <td>2</td>\n",
       "      <td>4</td>\n",
       "      <td>2</td>\n",
       "      <td>2</td>\n",
       "      <td>2</td>\n",
       "      <td>2</td>\n",
       "      <td>5</td>\n",
       "      <td>4</td>\n",
       "      <td>4</td>\n",
       "      <td>3</td>\n",
       "      <td>4</td>\n",
       "      <td>2</td>\n",
       "      <td>119</td>\n",
       "      <td>NaN</td>\n",
       "    </tr>\n",
       "    <tr>\n",
       "      <th>48640</th>\n",
       "      <td>Female</td>\n",
       "      <td>Loyal Customer</td>\n",
       "      <td>34</td>\n",
       "      <td>Business travel</td>\n",
       "      <td>Business</td>\n",
       "      <td>1569</td>\n",
       "      <td>1</td>\n",
       "      <td>1</td>\n",
       "      <td>1</td>\n",
       "      <td>1</td>\n",
       "      <td>4</td>\n",
       "      <td>2</td>\n",
       "      <td>2</td>\n",
       "      <td>4</td>\n",
       "      <td>4</td>\n",
       "      <td>4</td>\n",
       "      <td>4</td>\n",
       "      <td>5</td>\n",
       "      <td>4</td>\n",
       "      <td>1</td>\n",
       "      <td>4</td>\n",
       "      <td>NaN</td>\n",
       "    </tr>\n",
       "    <tr>\n",
       "      <th>102067</th>\n",
       "      <td>Male</td>\n",
       "      <td>Loyal Customer</td>\n",
       "      <td>49</td>\n",
       "      <td>Personal Travel</td>\n",
       "      <td>Eco Plus</td>\n",
       "      <td>1249</td>\n",
       "      <td>2</td>\n",
       "      <td>5</td>\n",
       "      <td>2</td>\n",
       "      <td>3</td>\n",
       "      <td>2</td>\n",
       "      <td>3</td>\n",
       "      <td>3</td>\n",
       "      <td>3</td>\n",
       "      <td>4</td>\n",
       "      <td>5</td>\n",
       "      <td>4</td>\n",
       "      <td>3</td>\n",
       "      <td>4</td>\n",
       "      <td>3</td>\n",
       "      <td>230</td>\n",
       "      <td>NaN</td>\n",
       "    </tr>\n",
       "  </tbody>\n",
       "</table>\n",
       "</div>"
      ],
      "text/plain": [
       "        Gender      Customer_Type  Age      Type_Travel     Class  \\\n",
       "96093   Female  disloyal Customer   20  Business travel       Eco   \n",
       "53401   Female     Loyal Customer   11  Business travel       Eco   \n",
       "29918     Male     Loyal Customer   58  Personal Travel       Eco   \n",
       "48640   Female     Loyal Customer   34  Business travel  Business   \n",
       "102067    Male     Loyal Customer   49  Personal Travel  Eco Plus   \n",
       "\n",
       "        Flight_distance  Inflight_wifi  Dep/Arv_time  Ease_booking  \\\n",
       "96093               598              4             0             4   \n",
       "53401              2576              0             5             0   \n",
       "29918               833              2             5             2   \n",
       "48640              1569              1             1             1   \n",
       "102067             1249              2             5             2   \n",
       "\n",
       "        Gate_location  Food_drink  Online_boarding  Seat_comfort  \\\n",
       "96093               4           5                4             4   \n",
       "53401               5           0                5             5   \n",
       "29918               4           2                2             2   \n",
       "48640               1           4                2             2   \n",
       "102067              3           2                3             3   \n",
       "\n",
       "        Inflight_entertainment  On-board_service  Leg_room  Baggage_handling  \\\n",
       "96093                        5                 1         2                 5   \n",
       "53401                        1                 2         5                 5   \n",
       "29918                        2                 5         4                 4   \n",
       "48640                        4                 4         4                 4   \n",
       "102067                       3                 4         5                 4   \n",
       "\n",
       "        Checkin_service  Inflight_service  Cleanliness  Departure_delay  \\\n",
       "96093                 4                 1            5                0   \n",
       "53401                 5                 2            5              160   \n",
       "29918                 3                 4            2              119   \n",
       "48640                 5                 4            1                4   \n",
       "102067                3                 4            3              230   \n",
       "\n",
       "        Arrival_delay  \n",
       "96093             NaN  \n",
       "53401             NaN  \n",
       "29918             NaN  \n",
       "48640             NaN  \n",
       "102067            NaN  "
      ]
     },
     "execution_count": 111,
     "metadata": {},
     "output_type": "execute_result"
    }
   ],
   "source": [
    "# Missing Value Check\n",
    "# X_train Set\n",
    "# Feature : Arrival_delay\n",
    "\n",
    "X_train[X_train['Arrival_delay'].isnull()].sample(5)"
   ]
  },
  {
   "cell_type": "code",
   "execution_count": 112,
   "metadata": {},
   "outputs": [
    {
     "data": {
      "text/html": [
       "<div>\n",
       "<style scoped>\n",
       "    .dataframe tbody tr th:only-of-type {\n",
       "        vertical-align: middle;\n",
       "    }\n",
       "\n",
       "    .dataframe tbody tr th {\n",
       "        vertical-align: top;\n",
       "    }\n",
       "\n",
       "    .dataframe thead th {\n",
       "        text-align: right;\n",
       "    }\n",
       "</style>\n",
       "<table border=\"1\" class=\"dataframe\">\n",
       "  <thead>\n",
       "    <tr style=\"text-align: right;\">\n",
       "      <th></th>\n",
       "      <th>Gender</th>\n",
       "      <th>Customer_Type</th>\n",
       "      <th>Age</th>\n",
       "      <th>Type_Travel</th>\n",
       "      <th>Class</th>\n",
       "      <th>Flight_distance</th>\n",
       "      <th>Inflight_wifi</th>\n",
       "      <th>Dep/Arv_time</th>\n",
       "      <th>Ease_booking</th>\n",
       "      <th>Gate_location</th>\n",
       "      <th>Food_drink</th>\n",
       "      <th>Online_boarding</th>\n",
       "      <th>Seat_comfort</th>\n",
       "      <th>Inflight_entertainment</th>\n",
       "      <th>On-board_service</th>\n",
       "      <th>Leg_room</th>\n",
       "      <th>Baggage_handling</th>\n",
       "      <th>Checkin_service</th>\n",
       "      <th>Inflight_service</th>\n",
       "      <th>Cleanliness</th>\n",
       "      <th>Departure_delay</th>\n",
       "      <th>Arrival_delay</th>\n",
       "    </tr>\n",
       "  </thead>\n",
       "  <tbody>\n",
       "    <tr>\n",
       "      <th>33271</th>\n",
       "      <td>Male</td>\n",
       "      <td>Loyal Customer</td>\n",
       "      <td>16</td>\n",
       "      <td>Business travel</td>\n",
       "      <td>Business</td>\n",
       "      <td>3184</td>\n",
       "      <td>3</td>\n",
       "      <td>1</td>\n",
       "      <td>1</td>\n",
       "      <td>1</td>\n",
       "      <td>3</td>\n",
       "      <td>2</td>\n",
       "      <td>3</td>\n",
       "      <td>3</td>\n",
       "      <td>1</td>\n",
       "      <td>1</td>\n",
       "      <td>3</td>\n",
       "      <td>2</td>\n",
       "      <td>4</td>\n",
       "      <td>3</td>\n",
       "      <td>0</td>\n",
       "      <td>NaN</td>\n",
       "    </tr>\n",
       "    <tr>\n",
       "      <th>83758</th>\n",
       "      <td>Female</td>\n",
       "      <td>Loyal Customer</td>\n",
       "      <td>52</td>\n",
       "      <td>Business travel</td>\n",
       "      <td>Eco</td>\n",
       "      <td>179</td>\n",
       "      <td>4</td>\n",
       "      <td>4</td>\n",
       "      <td>4</td>\n",
       "      <td>4</td>\n",
       "      <td>1</td>\n",
       "      <td>5</td>\n",
       "      <td>2</td>\n",
       "      <td>4</td>\n",
       "      <td>4</td>\n",
       "      <td>4</td>\n",
       "      <td>4</td>\n",
       "      <td>1</td>\n",
       "      <td>4</td>\n",
       "      <td>4</td>\n",
       "      <td>35</td>\n",
       "      <td>NaN</td>\n",
       "    </tr>\n",
       "    <tr>\n",
       "      <th>47626</th>\n",
       "      <td>Female</td>\n",
       "      <td>disloyal Customer</td>\n",
       "      <td>63</td>\n",
       "      <td>Personal Travel</td>\n",
       "      <td>Eco</td>\n",
       "      <td>776</td>\n",
       "      <td>5</td>\n",
       "      <td>5</td>\n",
       "      <td>4</td>\n",
       "      <td>4</td>\n",
       "      <td>3</td>\n",
       "      <td>4</td>\n",
       "      <td>3</td>\n",
       "      <td>3</td>\n",
       "      <td>5</td>\n",
       "      <td>2</td>\n",
       "      <td>5</td>\n",
       "      <td>3</td>\n",
       "      <td>5</td>\n",
       "      <td>3</td>\n",
       "      <td>7</td>\n",
       "      <td>NaN</td>\n",
       "    </tr>\n",
       "    <tr>\n",
       "      <th>30529</th>\n",
       "      <td>Female</td>\n",
       "      <td>Loyal Customer</td>\n",
       "      <td>23</td>\n",
       "      <td>Personal Travel</td>\n",
       "      <td>Eco</td>\n",
       "      <td>562</td>\n",
       "      <td>2</td>\n",
       "      <td>4</td>\n",
       "      <td>3</td>\n",
       "      <td>2</td>\n",
       "      <td>2</td>\n",
       "      <td>3</td>\n",
       "      <td>1</td>\n",
       "      <td>2</td>\n",
       "      <td>3</td>\n",
       "      <td>4</td>\n",
       "      <td>4</td>\n",
       "      <td>3</td>\n",
       "      <td>5</td>\n",
       "      <td>2</td>\n",
       "      <td>2</td>\n",
       "      <td>NaN</td>\n",
       "    </tr>\n",
       "    <tr>\n",
       "      <th>20665</th>\n",
       "      <td>Female</td>\n",
       "      <td>disloyal Customer</td>\n",
       "      <td>37</td>\n",
       "      <td>Business travel</td>\n",
       "      <td>Business</td>\n",
       "      <td>1371</td>\n",
       "      <td>4</td>\n",
       "      <td>5</td>\n",
       "      <td>5</td>\n",
       "      <td>3</td>\n",
       "      <td>3</td>\n",
       "      <td>5</td>\n",
       "      <td>4</td>\n",
       "      <td>3</td>\n",
       "      <td>4</td>\n",
       "      <td>3</td>\n",
       "      <td>4</td>\n",
       "      <td>3</td>\n",
       "      <td>5</td>\n",
       "      <td>3</td>\n",
       "      <td>46</td>\n",
       "      <td>NaN</td>\n",
       "    </tr>\n",
       "  </tbody>\n",
       "</table>\n",
       "</div>"
      ],
      "text/plain": [
       "       Gender      Customer_Type  Age      Type_Travel     Class  \\\n",
       "33271    Male     Loyal Customer   16  Business travel  Business   \n",
       "83758  Female     Loyal Customer   52  Business travel       Eco   \n",
       "47626  Female  disloyal Customer   63  Personal Travel       Eco   \n",
       "30529  Female     Loyal Customer   23  Personal Travel       Eco   \n",
       "20665  Female  disloyal Customer   37  Business travel  Business   \n",
       "\n",
       "       Flight_distance  Inflight_wifi  Dep/Arv_time  Ease_booking  \\\n",
       "33271             3184              3             1             1   \n",
       "83758              179              4             4             4   \n",
       "47626              776              5             5             4   \n",
       "30529              562              2             4             3   \n",
       "20665             1371              4             5             5   \n",
       "\n",
       "       Gate_location  Food_drink  Online_boarding  Seat_comfort  \\\n",
       "33271              1           3                2             3   \n",
       "83758              4           1                5             2   \n",
       "47626              4           3                4             3   \n",
       "30529              2           2                3             1   \n",
       "20665              3           3                5             4   \n",
       "\n",
       "       Inflight_entertainment  On-board_service  Leg_room  Baggage_handling  \\\n",
       "33271                       3                 1         1                 3   \n",
       "83758                       4                 4         4                 4   \n",
       "47626                       3                 5         2                 5   \n",
       "30529                       2                 3         4                 4   \n",
       "20665                       3                 4         3                 4   \n",
       "\n",
       "       Checkin_service  Inflight_service  Cleanliness  Departure_delay  \\\n",
       "33271                2                 4            3                0   \n",
       "83758                1                 4            4               35   \n",
       "47626                3                 5            3                7   \n",
       "30529                3                 5            2                2   \n",
       "20665                3                 5            3               46   \n",
       "\n",
       "       Arrival_delay  \n",
       "33271            NaN  \n",
       "83758            NaN  \n",
       "47626            NaN  \n",
       "30529            NaN  \n",
       "20665            NaN  "
      ]
     },
     "execution_count": 112,
     "metadata": {},
     "output_type": "execute_result"
    }
   ],
   "source": [
    "# Missing Value Check\n",
    "# X_test Set\n",
    "# Feature : Arrival_delay\n",
    "\n",
    "X_test[X_test['Arrival_delay'].isnull()].sample(5)"
   ]
  },
  {
   "cell_type": "markdown",
   "metadata": {},
   "source": [
    "Based on above results, I don't see any apparent pattern from inside the dataset that causing the missing values to be exist. I'll consider this as a Missing Completly at Random case. Based from Outliers Detection process, We know that the Arrival_delay is skewed distributed. So, I'll impute those missing value with mean value of the variable. The median value will be taken from the Train Set only to avoid any information leak to be happening."
   ]
  },
  {
   "cell_type": "code",
   "execution_count": 113,
   "metadata": {},
   "outputs": [],
   "source": [
    "# Calculate the median value\n",
    "median_ad = X_train['Arrival_delay'].median()\n"
   ]
  },
  {
   "cell_type": "code",
   "execution_count": 114,
   "metadata": {},
   "outputs": [],
   "source": [
    "# Impute missing value with median\n",
    "X_train['Arrival_delay'].fillna(median_ad, inplace=True)\n",
    "\n",
    "X_test['Arrival_delay'].fillna(median_ad, inplace=True)\n"
   ]
  },
  {
   "cell_type": "code",
   "execution_count": 115,
   "metadata": {},
   "outputs": [
    {
     "name": "stdout",
     "output_type": "stream",
     "text": [
      "Gender                    0\n",
      "Customer_Type             0\n",
      "Age                       0\n",
      "Type_Travel               0\n",
      "Class                     0\n",
      "Flight_distance           0\n",
      "Inflight_wifi             0\n",
      "Dep/Arv_time              0\n",
      "Ease_booking              0\n",
      "Gate_location             0\n",
      "Food_drink                0\n",
      "Online_boarding           0\n",
      "Seat_comfort              0\n",
      "Inflight_entertainment    0\n",
      "On-board_service          0\n",
      "Leg_room                  0\n",
      "Baggage_handling          0\n",
      "Checkin_service           0\n",
      "Inflight_service          0\n",
      "Cleanliness               0\n",
      "Departure_delay           0\n",
      "Arrival_delay             0\n",
      "dtype: int64\n",
      "\n",
      "Gender                    0\n",
      "Customer_Type             0\n",
      "Age                       0\n",
      "Type_Travel               0\n",
      "Class                     0\n",
      "Flight_distance           0\n",
      "Inflight_wifi             0\n",
      "Dep/Arv_time              0\n",
      "Ease_booking              0\n",
      "Gate_location             0\n",
      "Food_drink                0\n",
      "Online_boarding           0\n",
      "Seat_comfort              0\n",
      "Inflight_entertainment    0\n",
      "On-board_service          0\n",
      "Leg_room                  0\n",
      "Baggage_handling          0\n",
      "Checkin_service           0\n",
      "Inflight_service          0\n",
      "Cleanliness               0\n",
      "Departure_delay           0\n",
      "Arrival_delay             0\n",
      "dtype: int64\n"
     ]
    }
   ],
   "source": [
    "# Confirmation\n",
    "print(X_train.isna().sum())\n",
    "print()\n",
    "print(X_test.isna().sum())"
   ]
  },
  {
   "cell_type": "markdown",
   "metadata": {},
   "source": [
    "Now, I can confirm that the dataset is now free from any missing values."
   ]
  },
  {
   "cell_type": "markdown",
   "metadata": {},
   "source": [
    "**Feature Selection**\n",
    "\n",
    "Let's see our dataset once again"
   ]
  },
  {
   "cell_type": "code",
   "execution_count": 116,
   "metadata": {},
   "outputs": [
    {
     "data": {
      "text/html": [
       "<div>\n",
       "<style scoped>\n",
       "    .dataframe tbody tr th:only-of-type {\n",
       "        vertical-align: middle;\n",
       "    }\n",
       "\n",
       "    .dataframe tbody tr th {\n",
       "        vertical-align: top;\n",
       "    }\n",
       "\n",
       "    .dataframe thead th {\n",
       "        text-align: right;\n",
       "    }\n",
       "</style>\n",
       "<table border=\"1\" class=\"dataframe\">\n",
       "  <thead>\n",
       "    <tr style=\"text-align: right;\">\n",
       "      <th></th>\n",
       "      <th>Gender</th>\n",
       "      <th>Customer_Type</th>\n",
       "      <th>Age</th>\n",
       "      <th>Type_Travel</th>\n",
       "      <th>Class</th>\n",
       "      <th>Flight_distance</th>\n",
       "      <th>Inflight_wifi</th>\n",
       "      <th>Dep/Arv_time</th>\n",
       "      <th>Ease_booking</th>\n",
       "      <th>Gate_location</th>\n",
       "      <th>Food_drink</th>\n",
       "      <th>Online_boarding</th>\n",
       "      <th>Seat_comfort</th>\n",
       "      <th>Inflight_entertainment</th>\n",
       "      <th>On-board_service</th>\n",
       "      <th>Leg_room</th>\n",
       "      <th>Baggage_handling</th>\n",
       "      <th>Checkin_service</th>\n",
       "      <th>Inflight_service</th>\n",
       "      <th>Cleanliness</th>\n",
       "      <th>Departure_delay</th>\n",
       "      <th>Arrival_delay</th>\n",
       "    </tr>\n",
       "  </thead>\n",
       "  <tbody>\n",
       "    <tr>\n",
       "      <th>17901</th>\n",
       "      <td>Female</td>\n",
       "      <td>Loyal Customer</td>\n",
       "      <td>35</td>\n",
       "      <td>Personal Travel</td>\n",
       "      <td>Eco</td>\n",
       "      <td>1235</td>\n",
       "      <td>1</td>\n",
       "      <td>4</td>\n",
       "      <td>1</td>\n",
       "      <td>3</td>\n",
       "      <td>4</td>\n",
       "      <td>1</td>\n",
       "      <td>4</td>\n",
       "      <td>4</td>\n",
       "      <td>4</td>\n",
       "      <td>4</td>\n",
       "      <td>4</td>\n",
       "      <td>5</td>\n",
       "      <td>5</td>\n",
       "      <td>4</td>\n",
       "      <td>0</td>\n",
       "      <td>19.0</td>\n",
       "    </tr>\n",
       "    <tr>\n",
       "      <th>49209</th>\n",
       "      <td>Male</td>\n",
       "      <td>Loyal Customer</td>\n",
       "      <td>56</td>\n",
       "      <td>Business travel</td>\n",
       "      <td>Business</td>\n",
       "      <td>603</td>\n",
       "      <td>5</td>\n",
       "      <td>5</td>\n",
       "      <td>5</td>\n",
       "      <td>5</td>\n",
       "      <td>4</td>\n",
       "      <td>4</td>\n",
       "      <td>5</td>\n",
       "      <td>5</td>\n",
       "      <td>5</td>\n",
       "      <td>5</td>\n",
       "      <td>5</td>\n",
       "      <td>5</td>\n",
       "      <td>5</td>\n",
       "      <td>3</td>\n",
       "      <td>89</td>\n",
       "      <td>86.0</td>\n",
       "    </tr>\n",
       "    <tr>\n",
       "      <th>32340</th>\n",
       "      <td>Female</td>\n",
       "      <td>Loyal Customer</td>\n",
       "      <td>45</td>\n",
       "      <td>Personal Travel</td>\n",
       "      <td>Eco</td>\n",
       "      <td>2586</td>\n",
       "      <td>2</td>\n",
       "      <td>2</td>\n",
       "      <td>2</td>\n",
       "      <td>3</td>\n",
       "      <td>3</td>\n",
       "      <td>3</td>\n",
       "      <td>4</td>\n",
       "      <td>1</td>\n",
       "      <td>1</td>\n",
       "      <td>2</td>\n",
       "      <td>1</td>\n",
       "      <td>2</td>\n",
       "      <td>1</td>\n",
       "      <td>3</td>\n",
       "      <td>0</td>\n",
       "      <td>0.0</td>\n",
       "    </tr>\n",
       "    <tr>\n",
       "      <th>50831</th>\n",
       "      <td>Male</td>\n",
       "      <td>Loyal Customer</td>\n",
       "      <td>47</td>\n",
       "      <td>Business travel</td>\n",
       "      <td>Business</td>\n",
       "      <td>2422</td>\n",
       "      <td>2</td>\n",
       "      <td>2</td>\n",
       "      <td>2</td>\n",
       "      <td>2</td>\n",
       "      <td>2</td>\n",
       "      <td>5</td>\n",
       "      <td>5</td>\n",
       "      <td>4</td>\n",
       "      <td>4</td>\n",
       "      <td>4</td>\n",
       "      <td>4</td>\n",
       "      <td>4</td>\n",
       "      <td>4</td>\n",
       "      <td>3</td>\n",
       "      <td>0</td>\n",
       "      <td>0.0</td>\n",
       "    </tr>\n",
       "    <tr>\n",
       "      <th>10989</th>\n",
       "      <td>Male</td>\n",
       "      <td>Loyal Customer</td>\n",
       "      <td>40</td>\n",
       "      <td>Personal Travel</td>\n",
       "      <td>Eco</td>\n",
       "      <td>1076</td>\n",
       "      <td>2</td>\n",
       "      <td>4</td>\n",
       "      <td>2</td>\n",
       "      <td>3</td>\n",
       "      <td>4</td>\n",
       "      <td>2</td>\n",
       "      <td>4</td>\n",
       "      <td>4</td>\n",
       "      <td>5</td>\n",
       "      <td>3</td>\n",
       "      <td>5</td>\n",
       "      <td>4</td>\n",
       "      <td>4</td>\n",
       "      <td>4</td>\n",
       "      <td>18</td>\n",
       "      <td>18.0</td>\n",
       "    </tr>\n",
       "  </tbody>\n",
       "</table>\n",
       "</div>"
      ],
      "text/plain": [
       "       Gender   Customer_Type  Age      Type_Travel     Class  \\\n",
       "17901  Female  Loyal Customer   35  Personal Travel       Eco   \n",
       "49209    Male  Loyal Customer   56  Business travel  Business   \n",
       "32340  Female  Loyal Customer   45  Personal Travel       Eco   \n",
       "50831    Male  Loyal Customer   47  Business travel  Business   \n",
       "10989    Male  Loyal Customer   40  Personal Travel       Eco   \n",
       "\n",
       "       Flight_distance  Inflight_wifi  Dep/Arv_time  Ease_booking  \\\n",
       "17901             1235              1             4             1   \n",
       "49209              603              5             5             5   \n",
       "32340             2586              2             2             2   \n",
       "50831             2422              2             2             2   \n",
       "10989             1076              2             4             2   \n",
       "\n",
       "       Gate_location  Food_drink  Online_boarding  Seat_comfort  \\\n",
       "17901              3           4                1             4   \n",
       "49209              5           4                4             5   \n",
       "32340              3           3                3             4   \n",
       "50831              2           2                5             5   \n",
       "10989              3           4                2             4   \n",
       "\n",
       "       Inflight_entertainment  On-board_service  Leg_room  Baggage_handling  \\\n",
       "17901                       4                 4         4                 4   \n",
       "49209                       5                 5         5                 5   \n",
       "32340                       1                 1         2                 1   \n",
       "50831                       4                 4         4                 4   \n",
       "10989                       4                 5         3                 5   \n",
       "\n",
       "       Checkin_service  Inflight_service  Cleanliness  Departure_delay  \\\n",
       "17901                5                 5            4                0   \n",
       "49209                5                 5            3               89   \n",
       "32340                2                 1            3                0   \n",
       "50831                4                 4            3                0   \n",
       "10989                4                 4            4               18   \n",
       "\n",
       "       Arrival_delay  \n",
       "17901           19.0  \n",
       "49209           86.0  \n",
       "32340            0.0  \n",
       "50831            0.0  \n",
       "10989           18.0  "
      ]
     },
     "execution_count": 116,
     "metadata": {},
     "output_type": "execute_result"
    }
   ],
   "source": [
    "# Dataset Check\n",
    "X_train.head()"
   ]
  },
  {
   "cell_type": "markdown",
   "metadata": {},
   "source": [
    "I decide that I will use these features for my model:\n",
    "\n",
    "- Target Feature : 'Satisfaction'\n",
    "- Input Feature : ['Gender',\t'Customer_Type', Age,\t'Type_Travel',\t'Class',\t'Flight_distance',\t'Inflight_wifi',\t'Dep/Arv_time',\t'Ease_booking',\t'Gate_location',\t'Food_drink',\t'Online_boarding',\t'Seat_comfort',\t'Inflight_entertainment',\t'On-board_service',\t'Leg_room',\t'Baggage_handling',\t'Checkin_service',\t'Inflight_service',\t'Cleanliness',\t'Departure_delay',\t'Arrival_delay']"
   ]
  },
  {
   "cell_type": "markdown",
   "metadata": {},
   "source": [
    "**Feature Engineering (Scaling/Encoding)**\n",
    "\n",
    "In this part of sub-process, I will make the pipeline for data preparation process. This process consist of Scaling and Encoding input features so that it can be processed by the model.\n",
    "\n",
    "Before start the process, I'll categorize each input variable into two different type:\n",
    "\n",
    "After we categorize each feature has three different type :\n",
    "- Cat_ordinal = ['Gender','Customer_Type','Class', 'Type_Travel']\n",
    "- Num_normal = ['Age' ,'Inflight_wifi', 'Dep/Arv_time', 'Ease_booking', 'Gate_location', 'Food_drink', 'Online_boarding', 'Seat_comfort', 'Inflight_entertainment', 'On-board_service', 'Leg_room', 'Checkin_service', 'Cleanliness']\n",
    "- Num_skew = ['Arrival_delay','Departure_delay', 'Flight_distance',         'Baggage_handling', 'Inflight_service' ]\n",
    "\n",
    "And we will do: \n",
    "- OneHot Encoding for Cat_ordinal\n",
    "- MinMax Scaling fro Numerical skew distribution\n",
    "- Standard Scaling for Numerical normal distribution\n",
    "\n"
   ]
  },
  {
   "cell_type": "code",
   "execution_count": 117,
   "metadata": {},
   "outputs": [],
   "source": [
    "# Column Categorization\n",
    "cat_ordinal = ['Gender','Customer_Type','Class', 'Type_Travel']\n",
    "num_normal = ['Age','Inflight_wifi', 'Dep/Arv_time', 'Ease_booking', 'Gate_location', 'Food_drink', 'Online_boarding', 'Seat_comfort', 'Inflight_entertainment', 'On-board_service', 'Leg_room', 'Checkin_service', 'Cleanliness']\n",
    "num_skew = ['Arrival_delay','Departure_delay', 'Flight_distance','Baggage_handling', 'Inflight_service']\n",
    "\n",
    "# Combines three categoy into one\n",
    "final_features = cat_ordinal + num_normal + num_skew"
   ]
  },
  {
   "cell_type": "code",
   "execution_count": null,
   "metadata": {},
   "outputs": [],
   "source": [
    "'Gender','Customer_Type','Class', 'Type_Travel', 'Inflight_wifi','Ease_booking', 'Online_boarding', 'Seat_comfort', 'Inflight_entertainment', 'On-board_service', 'Leg_room', 'Checkin_service', 'Cleanliness', 'Flight_distance','Baggage_handling', 'Inflight_service'"
   ]
  },
  {
   "cell_type": "code",
   "execution_count": 118,
   "metadata": {},
   "outputs": [],
   "source": [
    "# Use selected variables\n",
    "X_train = X_train[final_features]\n",
    "X_test = X_test[final_features]"
   ]
  },
  {
   "cell_type": "code",
   "execution_count": 120,
   "metadata": {},
   "outputs": [],
   "source": [
    "# Make the Feature Engineering Pipeline\n",
    "pipe_FE = ColumnTransformer([\n",
    "    ('OHE', OneHotEncoder(), cat_ordinal),\n",
    "    ('MinMaxScaler', MinMaxScaler(), num_skew),\n",
    "    ('StdScaler', StandardScaler(), num_normal)\n",
    "]) "
   ]
  },
  {
   "cell_type": "markdown",
   "metadata": {},
   "source": [
    "---\n",
    "# VI. Model Definition"
   ]
  },
  {
   "cell_type": "markdown",
   "metadata": {},
   "source": [
    "**Model**\n",
    "\n",
    "Here is my initial **Satisfaction** classfication model:\n",
    "\n",
    "Target Feature : **Satisfaction**\n",
    "\n",
    "Input Feature : ['Gender',\t'Customer_Type', Age,\t'Type_Travel',\t'Class',\t'Flight_distance',\t'Inflight_wifi',\t'Dep/Arv_time',\t'Ease_booking',\t'Gate_location',\t'Food_drink',\t'Online_boarding',\t'Seat_comfort',\t'Inflight_entertainment',\t'On-board_service',\t'Leg_room',\t'Baggage_handling',\t'Checkin_service',\t'Inflight_service',\t'Cleanliness',\t'Departure_delay',\t'Arrival_delay']\n",
    "\n",
    "This is only initial model, it may change in the future depends on my model evaluation result."
   ]
  },
  {
   "cell_type": "markdown",
   "metadata": {},
   "source": [
    "**Algortihm**\n",
    "\n",
    "In this project I will use these algorithms :\n",
    "\n",
    "- Logistic Regression\n",
    "- SVM\n",
    "- Random Forest\n",
    "- KNN\n",
    "- AdaBoost\n",
    "\n",
    "I will compare above models and choose the best one."
   ]
  },
  {
   "cell_type": "markdown",
   "metadata": {},
   "source": [
    "**Model Evaluation (Metrics)**\n",
    "\n",
    "Since the target of this project is classification, I will use these error metrics for evaluating my model:\n",
    "\n",
    "- F1 Score\n",
    "- ROC-AUC Score"
   ]
  },
  {
   "cell_type": "markdown",
   "metadata": {},
   "source": [
    "**Logistic Regression**"
   ]
  },
  {
   "cell_type": "code",
   "execution_count": 122,
   "metadata": {},
   "outputs": [],
   "source": [
    "# Initial Model\n",
    "Logreg = LogisticRegression(n_jobs=-1, random_state=random_state)\n",
    "\n",
    "# Model Pipeline\n",
    "pipe_Logreg = Pipeline([\n",
    "    ('preprocessing', pipe_FE),\n",
    "    ('Logreg', Logreg)\n",
    "])\n",
    "\n",
    "# Hyper parameter\n",
    "params_Logreg = {\n",
    "    'Logreg__C': [0.001, 0.1, 1, 10, 100, 1000],\n",
    "    'Logreg__solver': ['newton-cg', 'lbfgs', 'liblinear', 'sag', 'saga']\n",
    "}"
   ]
  },
  {
   "cell_type": "markdown",
   "metadata": {},
   "source": [
    "**Support Vector Machine - SVC**"
   ]
  },
  {
   "cell_type": "code",
   "execution_count": 142,
   "metadata": {},
   "outputs": [],
   "source": [
    "# Initial Model\n",
    "Lin_SVC = SVC(cache_size=2000, random_state=random_state)\n",
    "\n",
    "# Model Pipeline\n",
    "pipe_Lin_SVC = Pipeline([\n",
    "    ('preprocessing', pipe_FE),\n",
    "    ('Lin_SVC', Lin_SVC)\n",
    "])\n",
    "\n",
    "# Hyper parameter\n",
    "params_Lin_SVC = {\n",
    "    'Lin_SVC__C': [0.25, 0.5, 0.75, 1],\n",
    "    'Lin_SVC__kernel': ['linear', 'rbf', 'sigmoid'],\n",
    "    'Lin_SVC__gamma': ['auto', 'scale']\n",
    "}"
   ]
  },
  {
   "cell_type": "markdown",
   "metadata": {},
   "source": [
    "**Random Forest**"
   ]
  },
  {
   "cell_type": "code",
   "execution_count": 124,
   "metadata": {},
   "outputs": [],
   "source": [
    "# Initial Model\n",
    "RF = RandomForestClassifier(random_state=random_state, n_jobs=-1, verbose=1)\n",
    "\n",
    "# Model Pipeline\n",
    "pipe_RF = Pipeline([\n",
    "    ('preprocessing', pipe_FE),\n",
    "    ('RF', RF)\n",
    "])\n",
    "\n",
    "# Hyper parameter\n",
    "params_RF = {\n",
    "    'RF__criterion': ['gini', 'entropy'],\n",
    "    'RF__min_samples_split': [2, 4, 8, 16, 32, 64],\n",
    "    'RF__max_features': ['auto', 'sqrt', 'log2']\n",
    "}"
   ]
  },
  {
   "cell_type": "markdown",
   "metadata": {},
   "source": [
    "**KNN**"
   ]
  },
  {
   "cell_type": "code",
   "execution_count": 125,
   "metadata": {},
   "outputs": [],
   "source": [
    "# Initial Model\n",
    "KNN = KNeighborsClassifier(n_jobs=-1)\n",
    "\n",
    "# Model Pipeline\n",
    "pipe_KNN = Pipeline([\n",
    "    ('preprocessing', pipe_FE),\n",
    "    ('KNN', KNN)\n",
    "])\n",
    "\n",
    "# Hyper parameter\n",
    "params_KNN = {\n",
    "    'KNN__n_neighbors': [5, 7, 9, 30],\n",
    "    'KNN__weights': ['uniform', 'distance'],\n",
    "    'KNN__algorithm': ['auto', 'ball_tree', 'kd_tree', 'brute']\n",
    "}"
   ]
  },
  {
   "cell_type": "markdown",
   "metadata": {},
   "source": [
    "**AdaBoost**"
   ]
  },
  {
   "cell_type": "code",
   "execution_count": 126,
   "metadata": {},
   "outputs": [],
   "source": [
    "# Initial Model\n",
    "Ada = AdaBoostClassifier(random_state=random_state)\n",
    "\n",
    "# Model Pipeline\n",
    "pipe_Ada = Pipeline([\n",
    "    ('preprocessing', pipe_FE),\n",
    "    ('Ada', Ada)\n",
    "])\n",
    "\n",
    "# Hyper parameter\n",
    "params_Ada = {\n",
    "    'Ada__n_estimators': [10, 50, 100, 200, 500],\n",
    "    'Ada__learning_rate': [0.1, 0.5, 1, 10, 50, 100],\n",
    "    'Ada__algorithm': ['SAMME', 'SAMME.R']\n",
    "}"
   ]
  },
  {
   "cell_type": "markdown",
   "metadata": {},
   "source": [
    "---\n",
    "# VII. Model Training"
   ]
  },
  {
   "cell_type": "markdown",
   "metadata": {},
   "source": [
    "**Cross-Validation Process**\n",
    "\n",
    "In this part of sub-process, I will use Cross-Validation to evaluate my base model and find which one is the best"
   ]
  },
  {
   "cell_type": "code",
   "execution_count": 127,
   "metadata": {},
   "outputs": [
    {
     "name": "stderr",
     "output_type": "stream",
     "text": [
      "[Parallel(n_jobs=-1)]: Using backend ThreadingBackend with 6 concurrent workers.\n",
      "[Parallel(n_jobs=-1)]: Done  38 tasks      | elapsed:    1.9s\n",
      "[Parallel(n_jobs=-1)]: Done 100 out of 100 | elapsed:    3.1s finished\n"
     ]
    }
   ],
   "source": [
    "# Cross-validate base model\n",
    "\n",
    "# prepare models and put it into list\n",
    "models = []\n",
    "models.append(('Logreg', pipe_Logreg))\n",
    "models.append(('Lin_SVC', pipe_Lin_SVC))\n",
    "models.append(('RF', pipe_RF))\n",
    "models.append(('KNN', pipe_KNN))\n",
    "models.append(('Ada', pipe_Ada))\n",
    "\n",
    "# Create empty list to stores result\n",
    "names = []\n",
    "results = []\n",
    "mean_score = []\n",
    "stdev_score = []\n",
    "\n",
    "# Cross-validate each model\n",
    "for name, model in models:\n",
    "    model.fit(X_train,y_train)\n",
    "    scores = cross_val_score(model, X_train, y_train, scoring='f1_weighted', cv=5, n_jobs=-1)\n",
    "\n",
    "    names.append(name)\n",
    "    results.append(scores)\n",
    "    mean_score.append(round(np.mean(scores),4))\n",
    "    stdev_score.append(round(np.std(scores),4))\n",
    "\n",
    "cv_result = pd.DataFrame({'models':names, 'mean_score':mean_score, 'stdev_score':stdev_score})"
   ]
  },
  {
   "cell_type": "markdown",
   "metadata": {},
   "source": [
    "---\n",
    "# VIII. Model Evaluation\n",
    "In this part of process, I will try to evaluate the trained model and make conclusion out of it."
   ]
  },
  {
   "cell_type": "code",
   "execution_count": 128,
   "metadata": {},
   "outputs": [
    {
     "data": {
      "text/html": [
       "<div>\n",
       "<style scoped>\n",
       "    .dataframe tbody tr th:only-of-type {\n",
       "        vertical-align: middle;\n",
       "    }\n",
       "\n",
       "    .dataframe tbody tr th {\n",
       "        vertical-align: top;\n",
       "    }\n",
       "\n",
       "    .dataframe thead th {\n",
       "        text-align: right;\n",
       "    }\n",
       "</style>\n",
       "<table border=\"1\" class=\"dataframe\">\n",
       "  <thead>\n",
       "    <tr style=\"text-align: right;\">\n",
       "      <th></th>\n",
       "      <th>models</th>\n",
       "      <th>mean_score</th>\n",
       "      <th>stdev_score</th>\n",
       "    </tr>\n",
       "  </thead>\n",
       "  <tbody>\n",
       "    <tr>\n",
       "      <th>2</th>\n",
       "      <td>RF</td>\n",
       "      <td>0.9621</td>\n",
       "      <td>0.0020</td>\n",
       "    </tr>\n",
       "    <tr>\n",
       "      <th>1</th>\n",
       "      <td>Lin_SVC</td>\n",
       "      <td>0.9490</td>\n",
       "      <td>0.0024</td>\n",
       "    </tr>\n",
       "    <tr>\n",
       "      <th>3</th>\n",
       "      <td>KNN</td>\n",
       "      <td>0.9274</td>\n",
       "      <td>0.0016</td>\n",
       "    </tr>\n",
       "    <tr>\n",
       "      <th>4</th>\n",
       "      <td>Ada</td>\n",
       "      <td>0.9274</td>\n",
       "      <td>0.0012</td>\n",
       "    </tr>\n",
       "    <tr>\n",
       "      <th>0</th>\n",
       "      <td>Logreg</td>\n",
       "      <td>0.8748</td>\n",
       "      <td>0.0022</td>\n",
       "    </tr>\n",
       "  </tbody>\n",
       "</table>\n",
       "</div>"
      ],
      "text/plain": [
       "    models  mean_score  stdev_score\n",
       "2       RF      0.9621       0.0020\n",
       "1  Lin_SVC      0.9490       0.0024\n",
       "3      KNN      0.9274       0.0016\n",
       "4      Ada      0.9274       0.0012\n",
       "0   Logreg      0.8748       0.0022"
      ]
     },
     "execution_count": 128,
     "metadata": {},
     "output_type": "execute_result"
    }
   ],
   "source": [
    "# Showing the result\n",
    "cv_result.sort_values(by='mean_score', ascending=False)"
   ]
  },
  {
   "cell_type": "markdown",
   "metadata": {},
   "source": [
    "Based on result above, we can see the top model is Random Forest, its has the best mean_score and lowes std_score. Actually, in my opinian our base model actually perform pretty good, they had similar mean score with low standard deviation score, this indicate those model is precision and accurate enough. The most under performed model in this case is only Logistic Regression model.\n",
    "\n",
    "I decided to chose the top two performing model and do the hyper parameter tuning for each of them.\n"
   ]
  },
  {
   "cell_type": "markdown",
   "metadata": {},
   "source": [
    "**Hyper Parameter Tuning for the Best Model - Random Forest**"
   ]
  },
  {
   "cell_type": "code",
   "execution_count": 129,
   "metadata": {},
   "outputs": [
    {
     "name": "stdout",
     "output_type": "stream",
     "text": [
      "Fitting 5 folds for each of 36 candidates, totalling 180 fits\n"
     ]
    },
    {
     "name": "stderr",
     "output_type": "stream",
     "text": [
      "[Parallel(n_jobs=-1)]: Using backend ThreadingBackend with 6 concurrent workers.\n",
      "[Parallel(n_jobs=-1)]: Done  38 tasks      | elapsed:    0.6s\n",
      "[Parallel(n_jobs=-1)]: Done 100 out of 100 | elapsed:    1.7s finished\n"
     ]
    }
   ],
   "source": [
    "# Hyperparameter tuning\n",
    "grid_RF = GridSearchCV(\n",
    "    pipe_RF, params_RF, cv=5, scoring='f1_weighted', n_jobs=-1, verbose=1\n",
    ").fit(X_train, y_train)\n",
    "\n",
    "best_params_RF = grid_RF.best_params_\n",
    "best_pipe_RF = grid_RF.best_estimator_\n",
    "df_result_RF = pd.DataFrame.from_dict(grid_RF.cv_results_, orient='columns')"
   ]
  },
  {
   "cell_type": "code",
   "execution_count": 131,
   "metadata": {},
   "outputs": [
    {
     "data": {
      "text/plain": [
       "{'RF__criterion': 'entropy',\n",
       " 'RF__max_features': 'auto',\n",
       " 'RF__min_samples_split': 8}"
      ]
     },
     "execution_count": 131,
     "metadata": {},
     "output_type": "execute_result"
    }
   ],
   "source": [
    "# Show best parameter for Model\n",
    "best_params_RF"
   ]
  },
  {
   "cell_type": "markdown",
   "metadata": {},
   "source": [
    "Based on result above, the best hyper parameter settings for Random Forest are:\n",
    "\n",
    "- criterion: entropy\n",
    "- max_features: auto\n",
    "- min_samples_split: 8"
   ]
  },
  {
   "cell_type": "markdown",
   "metadata": {},
   "source": [
    "**Hyper Parameter Tuning for the Best Model - SVC**"
   ]
  },
  {
   "cell_type": "code",
   "execution_count": 132,
   "metadata": {},
   "outputs": [
    {
     "name": "stdout",
     "output_type": "stream",
     "text": [
      "Fitting 5 folds for each of 32 candidates, totalling 160 fits\n"
     ]
    }
   ],
   "source": [
    "# Hyperparameter tuning\n",
    "grid_Lin_SVC = GridSearchCV(\n",
    "    pipe_Lin_SVC, params_Lin_SVC, cv=5, scoring='f1_weighted', n_jobs=-1, verbose=1\n",
    ").fit(X_train, y_train)\n",
    "\n",
    "best_params_Lin_SVC = grid_Lin_SVC.best_params_\n",
    "best_pipe_Lin_SVC = grid_Lin_SVC.best_estimator_\n",
    "df_result_Lin_SVC = pd.DataFrame.from_dict(grid_Lin_SVC.cv_results_, orient='columns')"
   ]
  },
  {
   "cell_type": "code",
   "execution_count": 133,
   "metadata": {},
   "outputs": [
    {
     "data": {
      "text/plain": [
       "{'Lin_SVC__C': 1, 'Lin_SVC__gamma': 'scale', 'Lin_SVC__kernel': 'rbf'}"
      ]
     },
     "execution_count": 133,
     "metadata": {},
     "output_type": "execute_result"
    }
   ],
   "source": [
    "# Show best parameter for Model\n",
    "best_params_Lin_SVC"
   ]
  },
  {
   "cell_type": "markdown",
   "metadata": {},
   "source": [
    "Based on result above, the best hyper parameter settings for Support Vector Machine are:\n",
    "\n",
    "- C: 1\n",
    "- gamma: scale\n",
    "- kernel: rbf"
   ]
  },
  {
   "cell_type": "code",
   "execution_count": 179,
   "metadata": {},
   "outputs": [
    {
     "name": "stderr",
     "output_type": "stream",
     "text": [
      "[Parallel(n_jobs=6)]: Using backend ThreadingBackend with 6 concurrent workers.\n",
      "[Parallel(n_jobs=6)]: Done  38 tasks      | elapsed:    0.0s\n",
      "[Parallel(n_jobs=6)]: Done 100 out of 100 | elapsed:    0.0s finished\n"
     ]
    },
    {
     "name": "stdout",
     "output_type": "stream",
     "text": [
      "[0 0 0 ... 0 1 1]\n",
      "[0 0 0 ... 0 1 1]\n"
     ]
    }
   ],
   "source": [
    "# Prediction using `Test_Set` on 1st model\n",
    "y_test_pred_RF = best_pipe_RF.predict(X_test)\n",
    "y_test_pred_SVC = best_pipe_Lin_SVC.predict(X_test)\n",
    "\n",
    "# Result\n",
    "print(y_test_pred_RF)\n",
    "print(y_test_pred_SVC)"
   ]
  },
  {
   "cell_type": "markdown",
   "metadata": {},
   "source": [
    "**Model Evaluation - Random Forest**"
   ]
  },
  {
   "cell_type": "code",
   "execution_count": 134,
   "metadata": {},
   "outputs": [
    {
     "name": "stdout",
     "output_type": "stream",
     "text": [
      "==================== Train Results (Random Forest) ====================\n"
     ]
    },
    {
     "name": "stderr",
     "output_type": "stream",
     "text": [
      "[Parallel(n_jobs=6)]: Using backend ThreadingBackend with 6 concurrent workers.\n",
      "[Parallel(n_jobs=6)]: Done  38 tasks      | elapsed:    0.3s\n",
      "[Parallel(n_jobs=6)]: Done 100 out of 100 | elapsed:    0.8s finished\n"
     ]
    },
    {
     "name": "stdout",
     "output_type": "stream",
     "text": [
      "               precision    recall  f1-score   support\n",
      "\n",
      "Not Satisfied       0.99      1.00      0.99     41324\n",
      "    Satisfied       1.00      0.98      0.99     31408\n",
      "\n",
      "     accuracy                           0.99     72732\n",
      "    macro avg       0.99      0.99      0.99     72732\n",
      " weighted avg       0.99      0.99      0.99     72732\n",
      "\n",
      "==================== Test Results (Random Forest) ====================\n",
      "               precision    recall  f1-score   support\n",
      "\n",
      "Not Satisfied       0.95      0.98      0.97     17555\n",
      "    Satisfied       0.97      0.94      0.96     13617\n",
      "\n",
      "     accuracy                           0.96     31172\n",
      "    macro avg       0.96      0.96      0.96     31172\n",
      " weighted avg       0.96      0.96      0.96     31172\n",
      "\n"
     ]
    },
    {
     "name": "stderr",
     "output_type": "stream",
     "text": [
      "[Parallel(n_jobs=6)]: Using backend ThreadingBackend with 6 concurrent workers.\n",
      "[Parallel(n_jobs=6)]: Done  38 tasks      | elapsed:    0.0s\n",
      "[Parallel(n_jobs=6)]: Done 100 out of 100 | elapsed:    0.1s finished\n"
     ]
    }
   ],
   "source": [
    "#Performance Metrics\n",
    "print('==================== Train Results (Random Forest) ====================')\n",
    "print(classification_report(y_train, best_pipe_RF.predict(X_train), target_names=['Not Satisfied', 'Satisfied']))\n",
    "\n",
    "print('==================== Test Results (Random Forest) ====================')\n",
    "print(classification_report(y_test, best_pipe_RF.predict(X_test), target_names=['Not Satisfied', 'Satisfied']))\n"
   ]
  },
  {
   "cell_type": "code",
   "execution_count": 140,
   "metadata": {},
   "outputs": [
    {
     "name": "stdout",
     "output_type": "stream",
     "text": [
      "==================== Train Results (Random Forest) ====================\n"
     ]
    },
    {
     "name": "stderr",
     "output_type": "stream",
     "text": [
      "[Parallel(n_jobs=6)]: Using backend ThreadingBackend with 6 concurrent workers.\n",
      "[Parallel(n_jobs=6)]: Done  38 tasks      | elapsed:    0.0s\n",
      "[Parallel(n_jobs=6)]: Done 100 out of 100 | elapsed:    0.1s finished\n"
     ]
    },
    {
     "name": "stdout",
     "output_type": "stream",
     "text": [
      "0.9902559125103744\n",
      "==================== Test Results (Random Forest) ====================\n",
      "0.9600358357153497\n"
     ]
    },
    {
     "name": "stderr",
     "output_type": "stream",
     "text": [
      "[Parallel(n_jobs=6)]: Using backend ThreadingBackend with 6 concurrent workers.\n",
      "[Parallel(n_jobs=6)]: Done  38 tasks      | elapsed:    0.0s\n",
      "[Parallel(n_jobs=6)]: Done 100 out of 100 | elapsed:    0.0s finished\n"
     ]
    }
   ],
   "source": [
    "#Performance Metrics\n",
    "print('==================== Train Results (Random Forest) ====================')\n",
    "print(roc_auc_score(y_train, best_pipe_RF.predict(X_train)))\n",
    "\n",
    "print('==================== Test Results (Random Forest) ====================')\n",
    "print(roc_auc_score(y_test, best_pipe_RF.predict(X_test)))"
   ]
  },
  {
   "cell_type": "markdown",
   "metadata": {},
   "source": [
    "**Confusion Matrix of Random Forest**"
   ]
  },
  {
   "cell_type": "code",
   "execution_count": 180,
   "metadata": {},
   "outputs": [
    {
     "data": {
      "text/plain": [
       "Text(0.5, 1.0, 'Confusion Matrix Test Set')"
      ]
     },
     "execution_count": 180,
     "metadata": {},
     "output_type": "execute_result"
    },
    {
     "data": {
      "image/png": "[encoded data removed]",
      "text/plain": [
       "<Figure size 432x288 with 2 Axes>"
      ]
     },
     "metadata": {},
     "output_type": "display_data"
    }
   ],
   "source": [
    "confusion_mat = confusion_matrix(y_test, y_test_pred_RF)\n",
    "sns.heatmap(confusion_mat, annot=True)\n",
    "plt.xlabel('Predicted')\n",
    "plt.ylabel('Actual')\n",
    "plt.title('Confusion Matrix Test Set')"
   ]
  },
  {
   "cell_type": "markdown",
   "metadata": {},
   "source": [
    "**Performance Summary - Random Forest**\n",
    "\n",
    "Based on result above, I can say that\n",
    "\n",
    "- The model performance is not significantly different in terms of f-1 score on class Satisfied, I can assume that the model is goodfitting.\n",
    "- The model has tendency to predict relatively well on class Not Subscribed and class Subscribed.\n",
    "- Based from diferences between ROC-AUC Score, I can say that the model is goodfitting.\n",
    "- From confusion matric we got be sure has more score on True positive and True negative its measuring Recall,Precision,Specificty, Accuracy and AUC-ROC score "
   ]
  },
  {
   "cell_type": "markdown",
   "metadata": {},
   "source": [
    "**Model Evaluation - SVC**"
   ]
  },
  {
   "cell_type": "code",
   "execution_count": 143,
   "metadata": {},
   "outputs": [
    {
     "name": "stdout",
     "output_type": "stream",
     "text": [
      "==================== Train Results (SVC) ====================\n",
      "               precision    recall  f1-score   support\n",
      "\n",
      "Not Satisfied       0.95      0.97      0.96     41324\n",
      "    Satisfied       0.96      0.93      0.94     31408\n",
      "\n",
      "     accuracy                           0.95     72732\n",
      "    macro avg       0.95      0.95      0.95     72732\n",
      " weighted avg       0.95      0.95      0.95     72732\n",
      "\n",
      "==================== Test Results (SVC) ====================\n",
      "               precision    recall  f1-score   support\n",
      "\n",
      "Not Satisfied       0.95      0.97      0.96     17555\n",
      "    Satisfied       0.95      0.93      0.94     13617\n",
      "\n",
      "     accuracy                           0.95     31172\n",
      "    macro avg       0.95      0.95      0.95     31172\n",
      " weighted avg       0.95      0.95      0.95     31172\n",
      "\n"
     ]
    }
   ],
   "source": [
    "#Performance Metrics\n",
    "print('==================== Train Results (SVC) ====================')\n",
    "print(classification_report(y_train, best_pipe_Lin_SVC.predict(X_train), target_names=['Not Satisfied', 'Satisfied']))\n",
    "\n",
    "print('==================== Test Results (SVC) ====================')\n",
    "print(classification_report(y_test, best_pipe_Lin_SVC.predict(X_test), target_names=['Not Satisfied', 'Satisfied']))\n"
   ]
  },
  {
   "cell_type": "code",
   "execution_count": 144,
   "metadata": {},
   "outputs": [
    {
     "name": "stdout",
     "output_type": "stream",
     "text": [
      "==================== Train Results (SVC) ====================\n",
      "0.9501589328405528\n",
      "==================== Test Results (SVC) ====================\n",
      "0.9476532540633789\n"
     ]
    }
   ],
   "source": [
    "#Performance Metrics\n",
    "print('==================== Train Results (SVC) ====================')\n",
    "print(roc_auc_score(y_train, best_pipe_Lin_SVC.predict(X_train)))\n",
    "\n",
    "print('==================== Test Results (SVC) ====================')\n",
    "print(roc_auc_score(y_test, best_pipe_Lin_SVC.predict(X_test)))"
   ]
  },
  {
   "cell_type": "markdown",
   "metadata": {},
   "source": [
    "**Confusion Matrix of SVC**"
   ]
  },
  {
   "cell_type": "code",
   "execution_count": 181,
   "metadata": {},
   "outputs": [
    {
     "data": {
      "text/plain": [
       "Text(0.5, 1.0, 'Confusion Matrix Test Set')"
      ]
     },
     "execution_count": 181,
     "metadata": {},
     "output_type": "execute_result"
    },
    {
     "data": {
      "image/png": "[encoded data removed]",
      "text/plain": [
       "<Figure size 432x288 with 2 Axes>"
      ]
     },
     "metadata": {},
     "output_type": "display_data"
    }
   ],
   "source": [
    "confusion_mat = confusion_matrix(y_test, y_test_pred_SVC)\n",
    "sns.heatmap(confusion_mat, annot=True)\n",
    "plt.xlabel('Predicted')\n",
    "plt.ylabel('Actual')\n",
    "plt.title('Confusion Matrix Test Set')"
   ]
  },
  {
   "cell_type": "markdown",
   "metadata": {},
   "source": [
    "**Performance Summary - SVC**\n",
    "\n",
    "Based on result above, I can say that\n",
    "\n",
    "- The model performance is similar and has not different in terms of f-1 score on class Satisfied, I can assume that the model is goodfitting.\n",
    "- The model has tendency to predict relatively well on class Not Subscribed and class Subscribed.\n",
    "- Based from diferences between ROC-AUC Score, I can say that the model is goodfitting.\n",
    "- From this we has predicted positive, negative and it's true, itr means this model extremely useful for measuring Recall, Precision, Specificity, Accuracy, and most importantly AUC-ROC curves\n",
    "\n",
    "\n",
    "For Inference test, I will use Random Forest as my main model however SVC has perfect result from train and test set, but for time process we need faster like Random Forest."
   ]
  },
  {
   "cell_type": "markdown",
   "metadata": {},
   "source": [
    "---\n",
    "# X. Model Saving\n",
    "\n",
    "In this part of sub-process, I will save the chosen model so that it can be deployed to the production environment."
   ]
  },
  {
   "cell_type": "code",
   "execution_count": 158,
   "metadata": {},
   "outputs": [],
   "source": [
    "# Save the best model\n",
    "with open('model.pkl', 'wb') as f:\n",
    "    pickle.dump(best_pipe_RF, f)"
   ]
  },
  {
   "cell_type": "markdown",
   "metadata": {},
   "source": [
    "---\n",
    "# X. Model Inference\n",
    "\n",
    "In this part of process, I will try to feed the machine learning model using the Inference Set and see how it perform.\n",
    "\n",
    "Before feeding the set into the model, We need to do exact same process of Missing value handling, Feature selection and engineering process to the Inference Set"
   ]
  },
  {
   "cell_type": "code",
   "execution_count": 145,
   "metadata": {},
   "outputs": [
    {
     "data": {
      "text/plain": [
       "Unnamed: 0                            0\n",
       "id                                    0\n",
       "Gender                                0\n",
       "Customer Type                         0\n",
       "Age                                   0\n",
       "Type of Travel                        0\n",
       "Class                                 0\n",
       "Flight Distance                       0\n",
       "Inflight wifi service                 0\n",
       "Departure/Arrival time convenient     0\n",
       "Ease of Online booking                0\n",
       "Gate location                         0\n",
       "Food and drink                        0\n",
       "Online boarding                       0\n",
       "Seat comfort                          0\n",
       "Inflight entertainment                0\n",
       "On-board service                      0\n",
       "Leg room service                      0\n",
       "Baggage handling                      0\n",
       "Checkin service                       0\n",
       "Inflight service                      0\n",
       "Cleanliness                           0\n",
       "Departure Delay in Minutes            0\n",
       "Arrival Delay in Minutes             83\n",
       "satisfaction                          0\n",
       "dtype: int64"
      ]
     },
     "execution_count": 145,
     "metadata": {},
     "output_type": "execute_result"
    }
   ],
   "source": [
    "# Missing Value Check\n",
    "inf_set.isna().sum()"
   ]
  },
  {
   "cell_type": "code",
   "execution_count": 151,
   "metadata": {},
   "outputs": [],
   "source": [
    "inf_set = inf_set.drop(['Unnamed: 0', 'id'], axis = 1)"
   ]
  },
  {
   "cell_type": "code",
   "execution_count": 152,
   "metadata": {},
   "outputs": [],
   "source": [
    "# Rename the column\n",
    "inf_set.rename(columns={'Customer Type': 'Customer_Type','Type of Travel' : 'Type_Travel', 'Flight Distance' : 'Flight_distance', \n",
    "                    'Inflight wifi service' : 'Inflight_wifi', 'Departure/Arrival time convenient' : 'Dep/Arv_time', \n",
    "                   'Ease of Online booking' : 'Ease_booking', 'Gate location' : 'Gate_location', 'Food and drink'\t: 'Food_drink',\n",
    "                    'Online boarding' : 'Online_boarding', 'Seat comfort' : 'Seat_comfort', 'Inflight entertainment' : 'Inflight_entertainment',\n",
    "                    'On-board service' : 'On-board_service', 'Leg room service' : 'Leg_room', 'Baggage handling' : 'Baggage_handling',\n",
    "                    'Checkin service' : 'Checkin_service', 'Inflight service' : 'Inflight_service', 'Departure Delay in Minutes' : 'Departure_delay',\n",
    "                    'Arrival Delay in Minutes' : 'Arrival_delay', 'satisfaction' : 'Satisfaction'}, inplace=True)"
   ]
  },
  {
   "cell_type": "code",
   "execution_count": 154,
   "metadata": {},
   "outputs": [
    {
     "name": "stdout",
     "output_type": "stream",
     "text": [
      "[1 0]\n"
     ]
    }
   ],
   "source": [
    "# Convert to numerical format\n",
    "# Make dictionary\n",
    "y_rename = {'satisfied':1, 'neutral or dissatisfied':0}\n",
    "# Renaming process\n",
    "inf_set['Satisfaction'] = inf_set['Satisfaction'].map(y_rename)\n",
    "# Confirmation\n",
    "print(inf_set['Satisfaction'].unique())"
   ]
  },
  {
   "cell_type": "code",
   "execution_count": 155,
   "metadata": {},
   "outputs": [
    {
     "data": {
      "text/html": [
       "<div>\n",
       "<style scoped>\n",
       "    .dataframe tbody tr th:only-of-type {\n",
       "        vertical-align: middle;\n",
       "    }\n",
       "\n",
       "    .dataframe tbody tr th {\n",
       "        vertical-align: top;\n",
       "    }\n",
       "\n",
       "    .dataframe thead th {\n",
       "        text-align: right;\n",
       "    }\n",
       "</style>\n",
       "<table border=\"1\" class=\"dataframe\">\n",
       "  <thead>\n",
       "    <tr style=\"text-align: right;\">\n",
       "      <th></th>\n",
       "      <th>Gender</th>\n",
       "      <th>Customer_Type</th>\n",
       "      <th>Age</th>\n",
       "      <th>Type_Travel</th>\n",
       "      <th>Class</th>\n",
       "      <th>Flight_distance</th>\n",
       "      <th>Inflight_wifi</th>\n",
       "      <th>Dep/Arv_time</th>\n",
       "      <th>Ease_booking</th>\n",
       "      <th>Gate_location</th>\n",
       "      <th>Food_drink</th>\n",
       "      <th>Online_boarding</th>\n",
       "      <th>Seat_comfort</th>\n",
       "      <th>Inflight_entertainment</th>\n",
       "      <th>On-board_service</th>\n",
       "      <th>Leg_room</th>\n",
       "      <th>Baggage_handling</th>\n",
       "      <th>Checkin_service</th>\n",
       "      <th>Inflight_service</th>\n",
       "      <th>Cleanliness</th>\n",
       "      <th>Departure_delay</th>\n",
       "      <th>Arrival_delay</th>\n",
       "      <th>Satisfaction</th>\n",
       "    </tr>\n",
       "  </thead>\n",
       "  <tbody>\n",
       "    <tr>\n",
       "      <th>3194</th>\n",
       "      <td>Male</td>\n",
       "      <td>Loyal Customer</td>\n",
       "      <td>29</td>\n",
       "      <td>Business travel</td>\n",
       "      <td>Business</td>\n",
       "      <td>3772</td>\n",
       "      <td>5</td>\n",
       "      <td>5</td>\n",
       "      <td>5</td>\n",
       "      <td>5</td>\n",
       "      <td>5</td>\n",
       "      <td>4</td>\n",
       "      <td>5</td>\n",
       "      <td>5</td>\n",
       "      <td>3</td>\n",
       "      <td>3</td>\n",
       "      <td>5</td>\n",
       "      <td>3</td>\n",
       "      <td>4</td>\n",
       "      <td>5</td>\n",
       "      <td>0</td>\n",
       "      <td>NaN</td>\n",
       "      <td>1</td>\n",
       "    </tr>\n",
       "    <tr>\n",
       "      <th>20468</th>\n",
       "      <td>Female</td>\n",
       "      <td>disloyal Customer</td>\n",
       "      <td>21</td>\n",
       "      <td>Business travel</td>\n",
       "      <td>Eco</td>\n",
       "      <td>675</td>\n",
       "      <td>4</td>\n",
       "      <td>4</td>\n",
       "      <td>4</td>\n",
       "      <td>3</td>\n",
       "      <td>2</td>\n",
       "      <td>4</td>\n",
       "      <td>2</td>\n",
       "      <td>2</td>\n",
       "      <td>2</td>\n",
       "      <td>3</td>\n",
       "      <td>3</td>\n",
       "      <td>4</td>\n",
       "      <td>3</td>\n",
       "      <td>2</td>\n",
       "      <td>0</td>\n",
       "      <td>NaN</td>\n",
       "      <td>0</td>\n",
       "    </tr>\n",
       "    <tr>\n",
       "      <th>3906</th>\n",
       "      <td>Female</td>\n",
       "      <td>disloyal Customer</td>\n",
       "      <td>33</td>\n",
       "      <td>Business travel</td>\n",
       "      <td>Eco</td>\n",
       "      <td>587</td>\n",
       "      <td>4</td>\n",
       "      <td>0</td>\n",
       "      <td>4</td>\n",
       "      <td>4</td>\n",
       "      <td>3</td>\n",
       "      <td>4</td>\n",
       "      <td>3</td>\n",
       "      <td>3</td>\n",
       "      <td>4</td>\n",
       "      <td>3</td>\n",
       "      <td>5</td>\n",
       "      <td>4</td>\n",
       "      <td>5</td>\n",
       "      <td>3</td>\n",
       "      <td>0</td>\n",
       "      <td>NaN</td>\n",
       "      <td>0</td>\n",
       "    </tr>\n",
       "    <tr>\n",
       "      <th>14788</th>\n",
       "      <td>Male</td>\n",
       "      <td>Loyal Customer</td>\n",
       "      <td>62</td>\n",
       "      <td>Personal Travel</td>\n",
       "      <td>Eco</td>\n",
       "      <td>1024</td>\n",
       "      <td>1</td>\n",
       "      <td>5</td>\n",
       "      <td>1</td>\n",
       "      <td>3</td>\n",
       "      <td>2</td>\n",
       "      <td>1</td>\n",
       "      <td>2</td>\n",
       "      <td>2</td>\n",
       "      <td>3</td>\n",
       "      <td>5</td>\n",
       "      <td>4</td>\n",
       "      <td>5</td>\n",
       "      <td>4</td>\n",
       "      <td>2</td>\n",
       "      <td>45</td>\n",
       "      <td>NaN</td>\n",
       "      <td>0</td>\n",
       "    </tr>\n",
       "    <tr>\n",
       "      <th>11151</th>\n",
       "      <td>Female</td>\n",
       "      <td>disloyal Customer</td>\n",
       "      <td>26</td>\n",
       "      <td>Business travel</td>\n",
       "      <td>Eco</td>\n",
       "      <td>110</td>\n",
       "      <td>1</td>\n",
       "      <td>0</td>\n",
       "      <td>1</td>\n",
       "      <td>5</td>\n",
       "      <td>5</td>\n",
       "      <td>1</td>\n",
       "      <td>5</td>\n",
       "      <td>5</td>\n",
       "      <td>1</td>\n",
       "      <td>5</td>\n",
       "      <td>3</td>\n",
       "      <td>4</td>\n",
       "      <td>2</td>\n",
       "      <td>5</td>\n",
       "      <td>0</td>\n",
       "      <td>NaN</td>\n",
       "      <td>0</td>\n",
       "    </tr>\n",
       "  </tbody>\n",
       "</table>\n",
       "</div>"
      ],
      "text/plain": [
       "       Gender      Customer_Type  Age      Type_Travel     Class  \\\n",
       "3194     Male     Loyal Customer   29  Business travel  Business   \n",
       "20468  Female  disloyal Customer   21  Business travel       Eco   \n",
       "3906   Female  disloyal Customer   33  Business travel       Eco   \n",
       "14788    Male     Loyal Customer   62  Personal Travel       Eco   \n",
       "11151  Female  disloyal Customer   26  Business travel       Eco   \n",
       "\n",
       "       Flight_distance  Inflight_wifi  Dep/Arv_time  Ease_booking  \\\n",
       "3194              3772              5             5             5   \n",
       "20468              675              4             4             4   \n",
       "3906               587              4             0             4   \n",
       "14788             1024              1             5             1   \n",
       "11151              110              1             0             1   \n",
       "\n",
       "       Gate_location  Food_drink  Online_boarding  Seat_comfort  \\\n",
       "3194               5           5                4             5   \n",
       "20468              3           2                4             2   \n",
       "3906               4           3                4             3   \n",
       "14788              3           2                1             2   \n",
       "11151              5           5                1             5   \n",
       "\n",
       "       Inflight_entertainment  On-board_service  Leg_room  Baggage_handling  \\\n",
       "3194                        5                 3         3                 5   \n",
       "20468                       2                 2         3                 3   \n",
       "3906                        3                 4         3                 5   \n",
       "14788                       2                 3         5                 4   \n",
       "11151                       5                 1         5                 3   \n",
       "\n",
       "       Checkin_service  Inflight_service  Cleanliness  Departure_delay  \\\n",
       "3194                 3                 4            5                0   \n",
       "20468                4                 3            2                0   \n",
       "3906                 4                 5            3                0   \n",
       "14788                5                 4            2               45   \n",
       "11151                4                 2            5                0   \n",
       "\n",
       "       Arrival_delay  Satisfaction  \n",
       "3194             NaN             1  \n",
       "20468            NaN             0  \n",
       "3906             NaN             0  \n",
       "14788            NaN             0  \n",
       "11151            NaN             0  "
      ]
     },
     "execution_count": 155,
     "metadata": {},
     "output_type": "execute_result"
    }
   ],
   "source": [
    "# Missing Value Check\n",
    "# inf_set Set\n",
    "# Feature : Arrival_delay\n",
    "\n",
    "inf_set[inf_set['Arrival_delay'].isnull()].sample(5)"
   ]
  },
  {
   "cell_type": "code",
   "execution_count": 160,
   "metadata": {},
   "outputs": [],
   "source": [
    "# Calculate the median value\n",
    "inf_mean_ad = inf_set['Arrival_delay'].median() # Arrival Delay has skewed distribution"
   ]
  },
  {
   "cell_type": "code",
   "execution_count": 161,
   "metadata": {},
   "outputs": [],
   "source": [
    "# Impute missing value with median\n",
    "inf_set['Arrival_delay'].fillna(inf_mean_ad, inplace=True)"
   ]
  },
  {
   "cell_type": "code",
   "execution_count": 162,
   "metadata": {},
   "outputs": [
    {
     "name": "stdout",
     "output_type": "stream",
     "text": [
      "Gender                    0\n",
      "Customer_Type             0\n",
      "Age                       0\n",
      "Type_Travel               0\n",
      "Class                     0\n",
      "Flight_distance           0\n",
      "Inflight_wifi             0\n",
      "Dep/Arv_time              0\n",
      "Ease_booking              0\n",
      "Gate_location             0\n",
      "Food_drink                0\n",
      "Online_boarding           0\n",
      "Seat_comfort              0\n",
      "Inflight_entertainment    0\n",
      "On-board_service          0\n",
      "Leg_room                  0\n",
      "Baggage_handling          0\n",
      "Checkin_service           0\n",
      "Inflight_service          0\n",
      "Cleanliness               0\n",
      "Departure_delay           0\n",
      "Arrival_delay             0\n",
      "Satisfaction              0\n",
      "dtype: int64\n"
     ]
    }
   ],
   "source": [
    "# Confirmation\n",
    "print(inf_set.isna().sum())"
   ]
  },
  {
   "cell_type": "markdown",
   "metadata": {},
   "source": [
    "Now, I can confirm that the dataset is now free from any missing values."
   ]
  },
  {
   "cell_type": "code",
   "execution_count": 163,
   "metadata": {},
   "outputs": [],
   "source": [
    "# Splitting Dataset\n",
    "\n",
    "# X will be consist of input parameter only\n",
    "X_inf = inf_set.drop(['Satisfaction'], axis=1)\n",
    "\n",
    "# use same variables in final features\n",
    "X_inf = X_inf[final_features]\n",
    "\n",
    "# y will be consist of target parameter only\n",
    "y_inf = inf_set['Satisfaction']"
   ]
  },
  {
   "cell_type": "markdown",
   "metadata": {},
   "source": [
    "After we completed splitting the inference set , now we can go to the next process."
   ]
  },
  {
   "cell_type": "code",
   "execution_count": 165,
   "metadata": {},
   "outputs": [],
   "source": [
    "# Create dataframe Inference Set\n",
    "df_y_inf = pd.DataFrame(y_inf)"
   ]
  },
  {
   "cell_type": "markdown",
   "metadata": {},
   "source": [
    "**Prediction**"
   ]
  },
  {
   "cell_type": "code",
   "execution_count": 164,
   "metadata": {},
   "outputs": [
    {
     "name": "stderr",
     "output_type": "stream",
     "text": [
      "[Parallel(n_jobs=6)]: Using backend ThreadingBackend with 6 concurrent workers.\n",
      "[Parallel(n_jobs=6)]: Done  38 tasks      | elapsed:    0.0s\n",
      "[Parallel(n_jobs=6)]: Done 100 out of 100 | elapsed:    0.0s finished\n"
     ]
    }
   ],
   "source": [
    "# Determines prediction result\n",
    "y_inf_pred = best_pipe_RF.predict(X_inf)"
   ]
  },
  {
   "cell_type": "markdown",
   "metadata": {},
   "source": [
    "Deterimation predict result ready to get test."
   ]
  },
  {
   "cell_type": "markdown",
   "metadata": {},
   "source": [
    "**Predict Of Inference Set**"
   ]
  },
  {
   "cell_type": "code",
   "execution_count": 167,
   "metadata": {},
   "outputs": [
    {
     "data": {
      "text/html": [
       "<div>\n",
       "<style scoped>\n",
       "    .dataframe tbody tr th:only-of-type {\n",
       "        vertical-align: middle;\n",
       "    }\n",
       "\n",
       "    .dataframe tbody tr th {\n",
       "        vertical-align: top;\n",
       "    }\n",
       "\n",
       "    .dataframe thead th {\n",
       "        text-align: right;\n",
       "    }\n",
       "</style>\n",
       "<table border=\"1\" class=\"dataframe\">\n",
       "  <thead>\n",
       "    <tr style=\"text-align: right;\">\n",
       "      <th></th>\n",
       "      <th>Satisfaction - Prediction</th>\n",
       "    </tr>\n",
       "  </thead>\n",
       "  <tbody>\n",
       "    <tr>\n",
       "      <th>0</th>\n",
       "      <td>1</td>\n",
       "    </tr>\n",
       "    <tr>\n",
       "      <th>1</th>\n",
       "      <td>1</td>\n",
       "    </tr>\n",
       "    <tr>\n",
       "      <th>2</th>\n",
       "      <td>0</td>\n",
       "    </tr>\n",
       "    <tr>\n",
       "      <th>3</th>\n",
       "      <td>1</td>\n",
       "    </tr>\n",
       "    <tr>\n",
       "      <th>4</th>\n",
       "      <td>0</td>\n",
       "    </tr>\n",
       "    <tr>\n",
       "      <th>...</th>\n",
       "      <td>...</td>\n",
       "    </tr>\n",
       "    <tr>\n",
       "      <th>25971</th>\n",
       "      <td>0</td>\n",
       "    </tr>\n",
       "    <tr>\n",
       "      <th>25972</th>\n",
       "      <td>1</td>\n",
       "    </tr>\n",
       "    <tr>\n",
       "      <th>25973</th>\n",
       "      <td>0</td>\n",
       "    </tr>\n",
       "    <tr>\n",
       "      <th>25974</th>\n",
       "      <td>1</td>\n",
       "    </tr>\n",
       "    <tr>\n",
       "      <th>25975</th>\n",
       "      <td>0</td>\n",
       "    </tr>\n",
       "  </tbody>\n",
       "</table>\n",
       "<p>25976 rows × 1 columns</p>\n",
       "</div>"
      ],
      "text/plain": [
       "       Satisfaction - Prediction\n",
       "0                              1\n",
       "1                              1\n",
       "2                              0\n",
       "3                              1\n",
       "4                              0\n",
       "...                          ...\n",
       "25971                          0\n",
       "25972                          1\n",
       "25973                          0\n",
       "25974                          1\n",
       "25975                          0\n",
       "\n",
       "[25976 rows x 1 columns]"
      ]
     },
     "execution_count": 167,
     "metadata": {},
     "output_type": "execute_result"
    }
   ],
   "source": [
    "# Convert into DataFrame\n",
    "\n",
    "y_pred_inf_df = pd.DataFrame(y_inf_pred, columns=['Satisfaction - Prediction']).reset_index().drop(['index'], axis=1)\n",
    "y_pred_inf_df"
   ]
  },
  {
   "cell_type": "code",
   "execution_count": 168,
   "metadata": {},
   "outputs": [
    {
     "data": {
      "text/html": [
       "<div>\n",
       "<style scoped>\n",
       "    .dataframe tbody tr th:only-of-type {\n",
       "        vertical-align: middle;\n",
       "    }\n",
       "\n",
       "    .dataframe tbody tr th {\n",
       "        vertical-align: top;\n",
       "    }\n",
       "\n",
       "    .dataframe thead th {\n",
       "        text-align: right;\n",
       "    }\n",
       "</style>\n",
       "<table border=\"1\" class=\"dataframe\">\n",
       "  <thead>\n",
       "    <tr style=\"text-align: right;\">\n",
       "      <th></th>\n",
       "      <th>index</th>\n",
       "      <th>Gender</th>\n",
       "      <th>Customer_Type</th>\n",
       "      <th>Age</th>\n",
       "      <th>Type_Travel</th>\n",
       "      <th>Class</th>\n",
       "      <th>Flight_distance</th>\n",
       "      <th>Inflight_wifi</th>\n",
       "      <th>Dep/Arv_time</th>\n",
       "      <th>Ease_booking</th>\n",
       "      <th>Gate_location</th>\n",
       "      <th>Food_drink</th>\n",
       "      <th>Online_boarding</th>\n",
       "      <th>Seat_comfort</th>\n",
       "      <th>Inflight_entertainment</th>\n",
       "      <th>On-board_service</th>\n",
       "      <th>Leg_room</th>\n",
       "      <th>Baggage_handling</th>\n",
       "      <th>Checkin_service</th>\n",
       "      <th>Inflight_service</th>\n",
       "      <th>Cleanliness</th>\n",
       "      <th>Departure_delay</th>\n",
       "      <th>Arrival_delay</th>\n",
       "      <th>Satisfaction</th>\n",
       "      <th>Satisfaction - Prediction</th>\n",
       "    </tr>\n",
       "  </thead>\n",
       "  <tbody>\n",
       "    <tr>\n",
       "      <th>0</th>\n",
       "      <td>0</td>\n",
       "      <td>Female</td>\n",
       "      <td>Loyal Customer</td>\n",
       "      <td>52</td>\n",
       "      <td>Business travel</td>\n",
       "      <td>Eco</td>\n",
       "      <td>160</td>\n",
       "      <td>5</td>\n",
       "      <td>4</td>\n",
       "      <td>3</td>\n",
       "      <td>4</td>\n",
       "      <td>3</td>\n",
       "      <td>4</td>\n",
       "      <td>3</td>\n",
       "      <td>5</td>\n",
       "      <td>5</td>\n",
       "      <td>5</td>\n",
       "      <td>5</td>\n",
       "      <td>2</td>\n",
       "      <td>5</td>\n",
       "      <td>5</td>\n",
       "      <td>50</td>\n",
       "      <td>44.0</td>\n",
       "      <td>1</td>\n",
       "      <td>1</td>\n",
       "    </tr>\n",
       "    <tr>\n",
       "      <th>1</th>\n",
       "      <td>1</td>\n",
       "      <td>Female</td>\n",
       "      <td>Loyal Customer</td>\n",
       "      <td>36</td>\n",
       "      <td>Business travel</td>\n",
       "      <td>Business</td>\n",
       "      <td>2863</td>\n",
       "      <td>1</td>\n",
       "      <td>1</td>\n",
       "      <td>3</td>\n",
       "      <td>1</td>\n",
       "      <td>5</td>\n",
       "      <td>4</td>\n",
       "      <td>5</td>\n",
       "      <td>4</td>\n",
       "      <td>4</td>\n",
       "      <td>4</td>\n",
       "      <td>4</td>\n",
       "      <td>3</td>\n",
       "      <td>4</td>\n",
       "      <td>5</td>\n",
       "      <td>0</td>\n",
       "      <td>0.0</td>\n",
       "      <td>1</td>\n",
       "      <td>1</td>\n",
       "    </tr>\n",
       "    <tr>\n",
       "      <th>2</th>\n",
       "      <td>2</td>\n",
       "      <td>Male</td>\n",
       "      <td>disloyal Customer</td>\n",
       "      <td>20</td>\n",
       "      <td>Business travel</td>\n",
       "      <td>Eco</td>\n",
       "      <td>192</td>\n",
       "      <td>2</td>\n",
       "      <td>0</td>\n",
       "      <td>2</td>\n",
       "      <td>4</td>\n",
       "      <td>2</td>\n",
       "      <td>2</td>\n",
       "      <td>2</td>\n",
       "      <td>2</td>\n",
       "      <td>4</td>\n",
       "      <td>1</td>\n",
       "      <td>3</td>\n",
       "      <td>2</td>\n",
       "      <td>2</td>\n",
       "      <td>2</td>\n",
       "      <td>0</td>\n",
       "      <td>0.0</td>\n",
       "      <td>0</td>\n",
       "      <td>0</td>\n",
       "    </tr>\n",
       "    <tr>\n",
       "      <th>3</th>\n",
       "      <td>3</td>\n",
       "      <td>Male</td>\n",
       "      <td>Loyal Customer</td>\n",
       "      <td>44</td>\n",
       "      <td>Business travel</td>\n",
       "      <td>Business</td>\n",
       "      <td>3377</td>\n",
       "      <td>0</td>\n",
       "      <td>0</td>\n",
       "      <td>0</td>\n",
       "      <td>2</td>\n",
       "      <td>3</td>\n",
       "      <td>4</td>\n",
       "      <td>4</td>\n",
       "      <td>1</td>\n",
       "      <td>1</td>\n",
       "      <td>1</td>\n",
       "      <td>1</td>\n",
       "      <td>3</td>\n",
       "      <td>1</td>\n",
       "      <td>4</td>\n",
       "      <td>0</td>\n",
       "      <td>6.0</td>\n",
       "      <td>1</td>\n",
       "      <td>1</td>\n",
       "    </tr>\n",
       "    <tr>\n",
       "      <th>4</th>\n",
       "      <td>4</td>\n",
       "      <td>Female</td>\n",
       "      <td>Loyal Customer</td>\n",
       "      <td>49</td>\n",
       "      <td>Business travel</td>\n",
       "      <td>Eco</td>\n",
       "      <td>1182</td>\n",
       "      <td>2</td>\n",
       "      <td>3</td>\n",
       "      <td>4</td>\n",
       "      <td>3</td>\n",
       "      <td>4</td>\n",
       "      <td>1</td>\n",
       "      <td>2</td>\n",
       "      <td>2</td>\n",
       "      <td>2</td>\n",
       "      <td>2</td>\n",
       "      <td>2</td>\n",
       "      <td>4</td>\n",
       "      <td>2</td>\n",
       "      <td>4</td>\n",
       "      <td>0</td>\n",
       "      <td>20.0</td>\n",
       "      <td>1</td>\n",
       "      <td>0</td>\n",
       "    </tr>\n",
       "    <tr>\n",
       "      <th>...</th>\n",
       "      <td>...</td>\n",
       "      <td>...</td>\n",
       "      <td>...</td>\n",
       "      <td>...</td>\n",
       "      <td>...</td>\n",
       "      <td>...</td>\n",
       "      <td>...</td>\n",
       "      <td>...</td>\n",
       "      <td>...</td>\n",
       "      <td>...</td>\n",
       "      <td>...</td>\n",
       "      <td>...</td>\n",
       "      <td>...</td>\n",
       "      <td>...</td>\n",
       "      <td>...</td>\n",
       "      <td>...</td>\n",
       "      <td>...</td>\n",
       "      <td>...</td>\n",
       "      <td>...</td>\n",
       "      <td>...</td>\n",
       "      <td>...</td>\n",
       "      <td>...</td>\n",
       "      <td>...</td>\n",
       "      <td>...</td>\n",
       "      <td>...</td>\n",
       "    </tr>\n",
       "    <tr>\n",
       "      <th>25971</th>\n",
       "      <td>25971</td>\n",
       "      <td>Male</td>\n",
       "      <td>disloyal Customer</td>\n",
       "      <td>34</td>\n",
       "      <td>Business travel</td>\n",
       "      <td>Business</td>\n",
       "      <td>526</td>\n",
       "      <td>3</td>\n",
       "      <td>3</td>\n",
       "      <td>3</td>\n",
       "      <td>1</td>\n",
       "      <td>4</td>\n",
       "      <td>3</td>\n",
       "      <td>4</td>\n",
       "      <td>4</td>\n",
       "      <td>3</td>\n",
       "      <td>2</td>\n",
       "      <td>4</td>\n",
       "      <td>4</td>\n",
       "      <td>5</td>\n",
       "      <td>4</td>\n",
       "      <td>0</td>\n",
       "      <td>0.0</td>\n",
       "      <td>0</td>\n",
       "      <td>0</td>\n",
       "    </tr>\n",
       "    <tr>\n",
       "      <th>25972</th>\n",
       "      <td>25972</td>\n",
       "      <td>Male</td>\n",
       "      <td>Loyal Customer</td>\n",
       "      <td>23</td>\n",
       "      <td>Business travel</td>\n",
       "      <td>Business</td>\n",
       "      <td>646</td>\n",
       "      <td>4</td>\n",
       "      <td>4</td>\n",
       "      <td>4</td>\n",
       "      <td>4</td>\n",
       "      <td>4</td>\n",
       "      <td>4</td>\n",
       "      <td>4</td>\n",
       "      <td>4</td>\n",
       "      <td>4</td>\n",
       "      <td>5</td>\n",
       "      <td>5</td>\n",
       "      <td>5</td>\n",
       "      <td>5</td>\n",
       "      <td>4</td>\n",
       "      <td>0</td>\n",
       "      <td>0.0</td>\n",
       "      <td>1</td>\n",
       "      <td>1</td>\n",
       "    </tr>\n",
       "    <tr>\n",
       "      <th>25973</th>\n",
       "      <td>25973</td>\n",
       "      <td>Female</td>\n",
       "      <td>Loyal Customer</td>\n",
       "      <td>17</td>\n",
       "      <td>Personal Travel</td>\n",
       "      <td>Eco</td>\n",
       "      <td>828</td>\n",
       "      <td>2</td>\n",
       "      <td>5</td>\n",
       "      <td>1</td>\n",
       "      <td>5</td>\n",
       "      <td>2</td>\n",
       "      <td>1</td>\n",
       "      <td>2</td>\n",
       "      <td>2</td>\n",
       "      <td>4</td>\n",
       "      <td>3</td>\n",
       "      <td>4</td>\n",
       "      <td>5</td>\n",
       "      <td>4</td>\n",
       "      <td>2</td>\n",
       "      <td>0</td>\n",
       "      <td>0.0</td>\n",
       "      <td>0</td>\n",
       "      <td>0</td>\n",
       "    </tr>\n",
       "    <tr>\n",
       "      <th>25974</th>\n",
       "      <td>25974</td>\n",
       "      <td>Male</td>\n",
       "      <td>Loyal Customer</td>\n",
       "      <td>14</td>\n",
       "      <td>Business travel</td>\n",
       "      <td>Business</td>\n",
       "      <td>1127</td>\n",
       "      <td>3</td>\n",
       "      <td>3</td>\n",
       "      <td>3</td>\n",
       "      <td>3</td>\n",
       "      <td>4</td>\n",
       "      <td>4</td>\n",
       "      <td>4</td>\n",
       "      <td>4</td>\n",
       "      <td>3</td>\n",
       "      <td>2</td>\n",
       "      <td>5</td>\n",
       "      <td>4</td>\n",
       "      <td>5</td>\n",
       "      <td>4</td>\n",
       "      <td>0</td>\n",
       "      <td>0.0</td>\n",
       "      <td>1</td>\n",
       "      <td>1</td>\n",
       "    </tr>\n",
       "    <tr>\n",
       "      <th>25975</th>\n",
       "      <td>25975</td>\n",
       "      <td>Female</td>\n",
       "      <td>Loyal Customer</td>\n",
       "      <td>42</td>\n",
       "      <td>Personal Travel</td>\n",
       "      <td>Eco</td>\n",
       "      <td>264</td>\n",
       "      <td>2</td>\n",
       "      <td>5</td>\n",
       "      <td>2</td>\n",
       "      <td>5</td>\n",
       "      <td>4</td>\n",
       "      <td>2</td>\n",
       "      <td>2</td>\n",
       "      <td>1</td>\n",
       "      <td>1</td>\n",
       "      <td>2</td>\n",
       "      <td>1</td>\n",
       "      <td>1</td>\n",
       "      <td>1</td>\n",
       "      <td>1</td>\n",
       "      <td>0</td>\n",
       "      <td>0.0</td>\n",
       "      <td>0</td>\n",
       "      <td>0</td>\n",
       "    </tr>\n",
       "  </tbody>\n",
       "</table>\n",
       "<p>25976 rows × 25 columns</p>\n",
       "</div>"
      ],
      "text/plain": [
       "       index  Gender      Customer_Type  Age      Type_Travel     Class  \\\n",
       "0          0  Female     Loyal Customer   52  Business travel       Eco   \n",
       "1          1  Female     Loyal Customer   36  Business travel  Business   \n",
       "2          2    Male  disloyal Customer   20  Business travel       Eco   \n",
       "3          3    Male     Loyal Customer   44  Business travel  Business   \n",
       "4          4  Female     Loyal Customer   49  Business travel       Eco   \n",
       "...      ...     ...                ...  ...              ...       ...   \n",
       "25971  25971    Male  disloyal Customer   34  Business travel  Business   \n",
       "25972  25972    Male     Loyal Customer   23  Business travel  Business   \n",
       "25973  25973  Female     Loyal Customer   17  Personal Travel       Eco   \n",
       "25974  25974    Male     Loyal Customer   14  Business travel  Business   \n",
       "25975  25975  Female     Loyal Customer   42  Personal Travel       Eco   \n",
       "\n",
       "       Flight_distance  Inflight_wifi  Dep/Arv_time  Ease_booking  \\\n",
       "0                  160              5             4             3   \n",
       "1                 2863              1             1             3   \n",
       "2                  192              2             0             2   \n",
       "3                 3377              0             0             0   \n",
       "4                 1182              2             3             4   \n",
       "...                ...            ...           ...           ...   \n",
       "25971              526              3             3             3   \n",
       "25972              646              4             4             4   \n",
       "25973              828              2             5             1   \n",
       "25974             1127              3             3             3   \n",
       "25975              264              2             5             2   \n",
       "\n",
       "       Gate_location  Food_drink  Online_boarding  Seat_comfort  \\\n",
       "0                  4           3                4             3   \n",
       "1                  1           5                4             5   \n",
       "2                  4           2                2             2   \n",
       "3                  2           3                4             4   \n",
       "4                  3           4                1             2   \n",
       "...              ...         ...              ...           ...   \n",
       "25971              1           4                3             4   \n",
       "25972              4           4                4             4   \n",
       "25973              5           2                1             2   \n",
       "25974              3           4                4             4   \n",
       "25975              5           4                2             2   \n",
       "\n",
       "       Inflight_entertainment  On-board_service  Leg_room  Baggage_handling  \\\n",
       "0                           5                 5         5                 5   \n",
       "1                           4                 4         4                 4   \n",
       "2                           2                 4         1                 3   \n",
       "3                           1                 1         1                 1   \n",
       "4                           2                 2         2                 2   \n",
       "...                       ...               ...       ...               ...   \n",
       "25971                       4                 3         2                 4   \n",
       "25972                       4                 4         5                 5   \n",
       "25973                       2                 4         3                 4   \n",
       "25974                       4                 3         2                 5   \n",
       "25975                       1                 1         2                 1   \n",
       "\n",
       "       Checkin_service  Inflight_service  Cleanliness  Departure_delay  \\\n",
       "0                    2                 5            5               50   \n",
       "1                    3                 4            5                0   \n",
       "2                    2                 2            2                0   \n",
       "3                    3                 1            4                0   \n",
       "4                    4                 2            4                0   \n",
       "...                ...               ...          ...              ...   \n",
       "25971                4                 5            4                0   \n",
       "25972                5                 5            4                0   \n",
       "25973                5                 4            2                0   \n",
       "25974                4                 5            4                0   \n",
       "25975                1                 1            1                0   \n",
       "\n",
       "       Arrival_delay  Satisfaction  Satisfaction - Prediction  \n",
       "0               44.0             1                          1  \n",
       "1                0.0             1                          1  \n",
       "2                0.0             0                          0  \n",
       "3                6.0             1                          1  \n",
       "4               20.0             1                          0  \n",
       "...              ...           ...                        ...  \n",
       "25971            0.0             0                          0  \n",
       "25972            0.0             1                          1  \n",
       "25973            0.0             0                          0  \n",
       "25974            0.0             1                          1  \n",
       "25975            0.0             0                          0  \n",
       "\n",
       "[25976 rows x 25 columns]"
      ]
     },
     "execution_count": 168,
     "metadata": {},
     "output_type": "execute_result"
    }
   ],
   "source": [
    "# Merge Inference-Set and Prediction\n",
    "\n",
    "pd.concat([inf_set, y_pred_inf_df], axis=1).reset_index()"
   ]
  },
  {
   "cell_type": "markdown",
   "metadata": {},
   "source": [
    "From inference set  we can see, the machine learning doing well on prediction.   "
   ]
  },
  {
   "cell_type": "markdown",
   "metadata": {},
   "source": [
    "**Evaluation**"
   ]
  },
  {
   "cell_type": "code",
   "execution_count": 172,
   "metadata": {},
   "outputs": [
    {
     "name": "stdout",
     "output_type": "stream",
     "text": [
      "==================== Inference Results (RF) ====================\n",
      "               precision    recall  f1-score   support\n",
      "\n",
      "Not Satisfied       0.96      0.98      0.97     14573\n",
      "    Satisfied       0.97      0.94      0.96     11403\n",
      "\n",
      "     accuracy                           0.96     25976\n",
      "    macro avg       0.96      0.96      0.96     25976\n",
      " weighted avg       0.96      0.96      0.96     25976\n",
      "\n"
     ]
    }
   ],
   "source": [
    "# Evaluation for inference set\n",
    "print('==================== Inference Results (RF) ====================')\n",
    "print(classification_report(y_inf, y_inf_pred, target_names=['Not Satisfied', 'Satisfied']))"
   ]
  },
  {
   "cell_type": "code",
   "execution_count": 173,
   "metadata": {},
   "outputs": [
    {
     "data": {
      "image/png": "[encoded data removed]",
      "text/plain": [
       "<Figure size 432x288 with 1 Axes>"
      ]
     },
     "metadata": {},
     "output_type": "display_data"
    }
   ],
   "source": [
    "# Plot ROC-AUC curve\n",
    "y = np.array(y_inf)\n",
    "pred = np.array(y_inf_pred)\n",
    "\n",
    "fpr, tpr, thresholds = roc_curve(y, pred)\n",
    "roc_auc = auc(fpr, tpr)\n",
    "display = RocCurveDisplay(fpr=fpr, tpr=tpr, roc_auc=roc_auc,\n",
    "                                  estimator_name='example estimator')\n",
    "display.plot()\n",
    "\n",
    "plt.show()"
   ]
  },
  {
   "cell_type": "code",
   "execution_count": 174,
   "metadata": {},
   "outputs": [
    {
     "name": "stdout",
     "output_type": "stream",
     "text": [
      "==================== Inference Results (RF) ====================\n",
      "0.9608397020509332\n"
     ]
    },
    {
     "name": "stderr",
     "output_type": "stream",
     "text": [
      "[Parallel(n_jobs=6)]: Using backend ThreadingBackend with 6 concurrent workers.\n",
      "[Parallel(n_jobs=6)]: Done  38 tasks      | elapsed:    0.0s\n",
      "[Parallel(n_jobs=6)]: Done 100 out of 100 | elapsed:    0.0s finished\n"
     ]
    }
   ],
   "source": [
    "print('==================== Inference Results (RF) ====================')\n",
    "print(roc_auc_score(y_inf, best_pipe_RF.predict(X_inf)))"
   ]
  },
  {
   "cell_type": "markdown",
   "metadata": {},
   "source": [
    "**Inference Process Evaluation**\n",
    "\n",
    "From above process, We can see that:\n",
    "\n",
    "- The model successfully predict all the class.\n",
    "- From the ROC-AUC Score has almost perfect score like train test set.\n",
    "- From roc-auc curve, almost perfect edge to true positive, this means all data has perfect balance and completed.\n",
    "- From this we can use this model to prediction satisfaction passengers airlines."
   ]
  },
  {
   "cell_type": "markdown",
   "metadata": {},
   "source": [
    "---\n",
    "# XI. Conclusion\n",
    "Here all the conclusion that I get from this project"
   ]
  },
  {
   "cell_type": "markdown",
   "metadata": {},
   "source": [
    "## Overall Data"
   ]
  },
  {
   "cell_type": "markdown",
   "metadata": {},
   "source": [
    "From this data we get quite balanced data even though there are outliers in the Arrival_delay & Departure_delay columns with negative correlation to the target value but we do capping to generalize the data in these columns, and also we have a missing value in the Arrival_delay section, we impute using the median of the column This is because it has a skewed distribution.\n",
    "Luckily, this data does not have corrupted data and has balance and correlation with existing features."
   ]
  },
  {
   "cell_type": "markdown",
   "metadata": {},
   "source": [
    "## Model Result"
   ]
  },
  {
   "cell_type": "markdown",
   "metadata": {},
   "source": [
    "To check the model result, we use cross validation to evaluate which model we can use for our final machine learning model, then we got mean_score & stdev_score for those model i use are:\n",
    "\n",
    "- Random Forest = 0.96\n",
    "- SVC = 0.94\n",
    "- KNN = 0.92\n",
    "- Ada = 0.92\n",
    "- Logreg = 0.87\n",
    "\n"
   ]
  },
  {
   "cell_type": "markdown",
   "metadata": {},
   "source": [
    "## Best Model"
   ]
  },
  {
   "cell_type": "markdown",
   "metadata": {},
   "source": [
    "The highest f1_score from cross validation is Random Forest Classifier with almost perfect score on train set eventho for test set has 96% score. This model has high accuracy,recall,precision from we see at classification report and we can make sure from confusion matrix. and the model is perfectly fit with ROC-AUC score : 99%.\n",
    "\n",
    "Tuning the hyper parameter for Random Forest Classifier, we got the best hyper parameter settings for Random Forest are:\n",
    "- criterion: entropy\n",
    "- max_features: auto\n",
    "- min_samples_split: 8"
   ]
  },
  {
   "cell_type": "markdown",
   "metadata": {},
   "source": [
    "**Insight Recomendation**\n",
    "\n",
    "Passengers on this airline in the level of satisfaction based on EDA have many influencing factors, one of which is increasing satisfaction with the services provided by the airline and also the ease of ordering tickets and the quality of seats and leg rooms are factors, but the delay time from flights also causes not satisfied from this flight so that it can worsen the level of flight satisfaction.\n",
    "Companies are required to improve flight efficiency and maximize the booking  and check-in service systems."
   ]
  }
 ],
 "metadata": {
  "interpreter": {
   "hash": "4ba04a4154796dc9f1fb51be3a9482ca72d81f970391e8ed4f56fce6fd21f80b"
  },
  "kernelspec": {
   "display_name": "Python 3.9.7 ('base')",
   "language": "python",
   "name": "python3"
  },
  "language_info": {
   "codemirror_mode": {
    "name": "ipython",
    "version": 3
   },
   "file_extension": ".py",
   "mimetype": "text/x-python",
   "name": "python",
   "nbconvert_exporter": "python",
   "pygments_lexer": "ipython3",
   "version": "3.9.7"
  },
  "orig_nbformat": 4
 },
 "nbformat": 4,
 "nbformat_minor": 2
}
